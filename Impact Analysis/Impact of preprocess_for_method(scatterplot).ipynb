{
 "cells": [
  {
   "cell_type": "code",
   "execution_count": 344,
   "metadata": {},
   "outputs": [],
   "source": [
    "import seaborn as sns\n",
    "import pandas as pd\n",
    "import os\n",
    "from sklearn.metrics import *\n",
    "import matplotlib.pyplot as plt\n",
    "import scanpy as sc\n",
    "import numpy as np"
   ]
  },
  {
   "cell_type": "code",
   "execution_count": 345,
   "metadata": {},
   "outputs": [],
   "source": [
    "algo_list=['Louvain',\n",
    "    'Leiden',\n",
    "    'stLearn',\n",
    "    'BayesSpace',\n",
    "    'SEDR',\n",
    "    'SpaGCN_with',\n",
    "    'SpaGCN_without',\n",
    "    'SCAN-IT',\n",
    "    'conST_nopre',\n",
    "    # 'conST_pre',\n",
    "    'STAGATE',\n",
    "    'CCST',\n",
    "    'SpaceFlow',\n",
    "    'BASS',\n",
    "    'DeepST']\n",
    "\n",
    "data_name=['151507','151508','151509','151510','151669','151670',\n",
    "        '151671','151672','151673','151674','151675','151676']"
   ]
  },
  {
   "cell_type": "code",
   "execution_count": 346,
   "metadata": {},
   "outputs": [],
   "source": [
    "pd_dict = {\n",
    "    'replicate':[],\n",
    "    'preprocess':[],\n",
    "    # 'algorithm':[],\n",
    "    'dataset':[],\n",
    "    'NMI':[],\n",
    "    'ARI':[],\n",
    "\n",
    "    'NMI_median':[],\n",
    "    'ARI_median':[]\n",
    "}"
   ]
  },
  {
   "cell_type": "code",
   "execution_count": 347,
   "metadata": {},
   "outputs": [],
   "source": [
    "m=13\n",
    "for n in range(12):\n",
    "    path = f'/home/workspace2/zhaofangyuan/domain_output/preprocess/{algo_list[m]}/{data_name[n]}'\n",
    "    for file in os.listdir(path):\n",
    "        file_whole = f'{path}/{file}'\n",
    "        adata = sc.read_h5ad(file_whole)\n",
    "\n",
    "        algorithm = f'{algo_list[m]}'\n",
    "        preprocess = file[:-5].split('_')[-1]\n",
    "        dataset = f'{data_name[n]}'\n",
    "        for i in range(5):\n",
    "            obs_df = adata.obs.dropna()\n",
    "            pred_label = obs_df[f'pred_{i+1}']\n",
    "            true_label = obs_df['Region']\n",
    "\n",
    "            # pred_label = adata.obs[f'pred_{i+1}']\n",
    "            # true_label = adata.obs['Region']\n",
    "            nmi = normalized_mutual_info_score(pred_label,true_label)\n",
    "            ari = adjusted_rand_score(pred_label,true_label)\n",
    "            \n",
    "            pd_dict['replicate'].append(i)\n",
    "            pd_dict['preprocess'].append(preprocess)   \n",
    "            pd_dict['dataset'].append(dataset)    \n",
    "            pd_dict['NMI'].append(nmi)\n",
    "            pd_dict['ARI'].append(ari)\n",
    " "
   ]
  },
  {
   "cell_type": "code",
   "execution_count": 348,
   "metadata": {},
   "outputs": [],
   "source": [
    "for j in range(0,len(pd_dict['NMI']),5):\n",
    "    temp=[pd_dict['NMI'][j],pd_dict['NMI'][j+1],pd_dict['NMI'][j+2],pd_dict['NMI'][j+3],pd_dict['NMI'][j+4]]\n",
    "    med=np.median(temp)\n",
    "\n",
    "\n",
    "    pd_dict['NMI_median'].append(med)\n",
    "    pd_dict['NMI_median'].append(med)\n",
    "    pd_dict['NMI_median'].append(med)\n",
    "    pd_dict['NMI_median'].append(med)\n",
    "    pd_dict['NMI_median'].append(med)"
   ]
  },
  {
   "cell_type": "code",
   "execution_count": 349,
   "metadata": {},
   "outputs": [],
   "source": [
    "for j in range(0,len(pd_dict['ARI']),5):\n",
    "    temp=[pd_dict['ARI'][j],pd_dict['ARI'][j+1],pd_dict['ARI'][j+2],pd_dict['ARI'][j+3],pd_dict['ARI'][j+4]]\n",
    "    med=np.median(temp)\n",
    "\n",
    "\n",
    "    pd_dict['ARI_median'].append(med)\n",
    "    pd_dict['ARI_median'].append(med)\n",
    "    pd_dict['ARI_median'].append(med)\n",
    "    pd_dict['ARI_median'].append(med)\n",
    "    pd_dict['ARI_median'].append(med)"
   ]
  },
  {
   "cell_type": "code",
   "execution_count": 351,
   "metadata": {},
   "outputs": [
    {
     "data": {
      "text/html": [
       "<div>\n",
       "<style scoped>\n",
       "    .dataframe tbody tr th:only-of-type {\n",
       "        vertical-align: middle;\n",
       "    }\n",
       "\n",
       "    .dataframe tbody tr th {\n",
       "        vertical-align: top;\n",
       "    }\n",
       "\n",
       "    .dataframe thead th {\n",
       "        text-align: right;\n",
       "    }\n",
       "</style>\n",
       "<table border=\"1\" class=\"dataframe\">\n",
       "  <thead>\n",
       "    <tr style=\"text-align: right;\">\n",
       "      <th></th>\n",
       "      <th>replicate</th>\n",
       "      <th>preprocess</th>\n",
       "      <th>dataset</th>\n",
       "      <th>NMI</th>\n",
       "      <th>ARI</th>\n",
       "      <th>NMI_median</th>\n",
       "      <th>ARI_median</th>\n",
       "    </tr>\n",
       "  </thead>\n",
       "  <tbody>\n",
       "    <tr>\n",
       "      <th>0</th>\n",
       "      <td>0</td>\n",
       "      <td>svg</td>\n",
       "      <td>151507</td>\n",
       "      <td>0.652070</td>\n",
       "      <td>0.511700</td>\n",
       "      <td>0.652070</td>\n",
       "      <td>0.511700</td>\n",
       "    </tr>\n",
       "    <tr>\n",
       "      <th>1</th>\n",
       "      <td>1</td>\n",
       "      <td>svg</td>\n",
       "      <td>151507</td>\n",
       "      <td>0.652070</td>\n",
       "      <td>0.511700</td>\n",
       "      <td>0.652070</td>\n",
       "      <td>0.511700</td>\n",
       "    </tr>\n",
       "    <tr>\n",
       "      <th>2</th>\n",
       "      <td>2</td>\n",
       "      <td>svg</td>\n",
       "      <td>151507</td>\n",
       "      <td>0.652070</td>\n",
       "      <td>0.511700</td>\n",
       "      <td>0.652070</td>\n",
       "      <td>0.511700</td>\n",
       "    </tr>\n",
       "    <tr>\n",
       "      <th>3</th>\n",
       "      <td>3</td>\n",
       "      <td>svg</td>\n",
       "      <td>151507</td>\n",
       "      <td>0.652070</td>\n",
       "      <td>0.511700</td>\n",
       "      <td>0.652070</td>\n",
       "      <td>0.511700</td>\n",
       "    </tr>\n",
       "    <tr>\n",
       "      <th>4</th>\n",
       "      <td>4</td>\n",
       "      <td>svg</td>\n",
       "      <td>151507</td>\n",
       "      <td>0.652070</td>\n",
       "      <td>0.511700</td>\n",
       "      <td>0.652070</td>\n",
       "      <td>0.511700</td>\n",
       "    </tr>\n",
       "    <tr>\n",
       "      <th>...</th>\n",
       "      <td>...</td>\n",
       "      <td>...</td>\n",
       "      <td>...</td>\n",
       "      <td>...</td>\n",
       "      <td>...</td>\n",
       "      <td>...</td>\n",
       "      <td>...</td>\n",
       "    </tr>\n",
       "    <tr>\n",
       "      <th>175</th>\n",
       "      <td>0</td>\n",
       "      <td>svg</td>\n",
       "      <td>151676</td>\n",
       "      <td>0.622367</td>\n",
       "      <td>0.522023</td>\n",
       "      <td>0.622367</td>\n",
       "      <td>0.522023</td>\n",
       "    </tr>\n",
       "    <tr>\n",
       "      <th>176</th>\n",
       "      <td>1</td>\n",
       "      <td>svg</td>\n",
       "      <td>151676</td>\n",
       "      <td>0.622367</td>\n",
       "      <td>0.522023</td>\n",
       "      <td>0.622367</td>\n",
       "      <td>0.522023</td>\n",
       "    </tr>\n",
       "    <tr>\n",
       "      <th>177</th>\n",
       "      <td>2</td>\n",
       "      <td>svg</td>\n",
       "      <td>151676</td>\n",
       "      <td>0.622367</td>\n",
       "      <td>0.522023</td>\n",
       "      <td>0.622367</td>\n",
       "      <td>0.522023</td>\n",
       "    </tr>\n",
       "    <tr>\n",
       "      <th>178</th>\n",
       "      <td>3</td>\n",
       "      <td>svg</td>\n",
       "      <td>151676</td>\n",
       "      <td>0.622367</td>\n",
       "      <td>0.522023</td>\n",
       "      <td>0.622367</td>\n",
       "      <td>0.522023</td>\n",
       "    </tr>\n",
       "    <tr>\n",
       "      <th>179</th>\n",
       "      <td>4</td>\n",
       "      <td>svg</td>\n",
       "      <td>151676</td>\n",
       "      <td>0.622367</td>\n",
       "      <td>0.522023</td>\n",
       "      <td>0.622367</td>\n",
       "      <td>0.522023</td>\n",
       "    </tr>\n",
       "  </tbody>\n",
       "</table>\n",
       "<p>180 rows × 7 columns</p>\n",
       "</div>"
      ],
      "text/plain": [
       "     replicate preprocess dataset       NMI       ARI  NMI_median  ARI_median\n",
       "0            0        svg  151507  0.652070  0.511700    0.652070    0.511700\n",
       "1            1        svg  151507  0.652070  0.511700    0.652070    0.511700\n",
       "2            2        svg  151507  0.652070  0.511700    0.652070    0.511700\n",
       "3            3        svg  151507  0.652070  0.511700    0.652070    0.511700\n",
       "4            4        svg  151507  0.652070  0.511700    0.652070    0.511700\n",
       "..         ...        ...     ...       ...       ...         ...         ...\n",
       "175          0        svg  151676  0.622367  0.522023    0.622367    0.522023\n",
       "176          1        svg  151676  0.622367  0.522023    0.622367    0.522023\n",
       "177          2        svg  151676  0.622367  0.522023    0.622367    0.522023\n",
       "178          3        svg  151676  0.622367  0.522023    0.622367    0.522023\n",
       "179          4        svg  151676  0.622367  0.522023    0.622367    0.522023\n",
       "\n",
       "[180 rows x 7 columns]"
      ]
     },
     "execution_count": 351,
     "metadata": {},
     "output_type": "execute_result"
    }
   ],
   "source": [
    "pd_df = pd.DataFrame(pd_dict)\n",
    "pd_df['ARI']=pd_df['ARI_median']\n",
    "pd_df['NMI']=pd_df['NMI_median']\n",
    "pd_df"
   ]
  },
  {
   "cell_type": "code",
   "execution_count": 352,
   "metadata": {},
   "outputs": [],
   "source": [
    "# for j in range(0,len(pd_df),5):\n",
    "#     new_pd_df=pd_df.iloc[j:j+5,:]\n",
    "#     new_pd_df['NMI_median']=[new_pd_df['ARI'].median() for i in range(len(new_pd_df)) ]\n",
    "\n",
    "\n",
    "#     pd_dict['NMI_median'].append(new_pd_df['NMI_median'].tolist()[0])\n",
    "#     pd_dict['NMI_median'].append(new_pd_df['NMI_median'].tolist()[0])\n",
    "#     pd_dict['NMI_median'].append(new_pd_df['NMI_median'].tolist()[0])\n",
    "#     pd_dict['NMI_median'].append(new_pd_df['NMI_median'].tolist()[0])\n",
    "#     pd_dict['NMI_median'].append(new_pd_df['NMI_median'].tolist()[0])"
   ]
  },
  {
   "cell_type": "code",
   "execution_count": 353,
   "metadata": {},
   "outputs": [],
   "source": [
    "# pd_df['ARI_median']=pd_df.iloc[:,2:4].median(axis=1)\n",
    "# pd_df['NMI_median']=[pd_df['NMI'].median() for i in range(len(pd_df)) ]"
   ]
  },
  {
   "cell_type": "code",
   "execution_count": 354,
   "metadata": {},
   "outputs": [],
   "source": [
    "\n",
    "import palettable\n",
    "\n",
    "\n",
    "cmp = palettable.tableau.Tableau_20.mpl_colors\n",
    "cmp_order = [cmp[1],cmp[3],cmp[5]]\n",
    "# cmp_order = [cmp[0],cmp[2],cmp[4]]\n",
    "preprocess_order=['hvg','svg','none']\n",
    "preprocess_color_dict = dict(zip(preprocess_order,cmp_order))"
   ]
  },
  {
   "cell_type": "code",
   "execution_count": 355,
   "metadata": {},
   "outputs": [
    {
     "data": {
      "text/plain": [
       "['hvg', 'svg', 'none']"
      ]
     },
     "execution_count": 355,
     "metadata": {},
     "output_type": "execute_result"
    }
   ],
   "source": [
    "preprocess_order"
   ]
  },
  {
   "cell_type": "code",
   "execution_count": 356,
   "metadata": {},
   "outputs": [
    {
     "data": {
      "image/png": "[encoded data removed]",
      "text/plain": [
       "<Figure size 360x360 with 1 Axes>"
      ]
     },
     "metadata": {
      "needs_background": "light"
     },
     "output_type": "display_data"
    }
   ],
   "source": [
    "\n",
    "fig,ax = plt.subplots(1,1,figsize=(5,5))\n",
    "markers = {\"hvg\": \"s\", \"svg\": \"^\",\"none\":\"o\"}\n",
    "p=sns.scatterplot(data=pd_df, x=\"dataset\", y=\"ARI\", hue=\"preprocess\", style=\"preprocess\",s=150,\n",
    "        ax=ax,palette=preprocess_color_dict,hue_order=preprocess_order,markers=markers,alpha = 0.3)\n",
    "sns.move_legend(p, \"upper left\", bbox_to_anchor=(1, 1))\n",
    "\n",
    "p.set_title(f\"{algo_list[m]}\")\n",
    "plt.xticks(rotation = 90)\n",
    "plt.savefig(f'./preprocess_algorithm/preprocess_ari_{algo_list[m]}(scatterplot).pdf',dpi=400,bbox_inches='tight',transparent=True)\n"
   ]
  },
  {
   "cell_type": "code",
   "execution_count": 357,
   "metadata": {},
   "outputs": [
    {
     "data": {
      "image/png": "[encoded data removed]",
      "text/plain": [
       "<Figure size 360x360 with 1 Axes>"
      ]
     },
     "metadata": {
      "needs_background": "light"
     },
     "output_type": "display_data"
    }
   ],
   "source": [
    "\n",
    "fig,ax = plt.subplots(1,1,figsize=(5,5))\n",
    "markers = {\"hvg\": \"s\", \"svg\": \"^\",\"none\":\"o\"}\n",
    "# fill=False\n",
    "p=sns.scatterplot(data=pd_df, x=\"dataset\", y=\"NMI\", hue=\"preprocess\", style=\"preprocess\",\n",
    "    ax=ax,palette=preprocess_color_dict,hue_order=preprocess_order,s=200,markers=markers,alpha = 0.3)\n",
    "sns.move_legend(p, \"upper left\", bbox_to_anchor=(1, 1))\n",
    "\n",
    "p.set_title(f\"{algo_list[m]}\")\n",
    "plt.xticks(rotation = 90)\n",
    "plt.savefig(f'./preprocess_algorithm/preprocess_nmi_{algo_list[m]}(scatterplot).pdf',dpi=400,bbox_inches='tight',transparent=True)"
   ]
  }
 ],
 "metadata": {
  "kernelspec": {
   "display_name": "zhuanhuan",
   "language": "python",
   "name": "python3"
  },
  "language_info": {
   "codemirror_mode": {
    "name": "ipython",
    "version": 3
   },
   "file_extension": ".py",
   "mimetype": "text/x-python",
   "name": "python",
   "nbconvert_exporter": "python",
   "pygments_lexer": "ipython3",
   "version": "3.8.13 | packaged by conda-forge | (default, Mar 25 2022, 06:04:18) \n[GCC 10.3.0]"
  },
  "orig_nbformat": 4,
  "vscode": {
   "interpreter": {
    "hash": "7e222ea0b076562b1fd6a246fc5eb153b84f0ba04b753a72dbab72068768f3bc"
   }
  }
 },
 "nbformat": 4,
 "nbformat_minor": 2
}
