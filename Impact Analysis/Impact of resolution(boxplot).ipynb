{
 "cells": [
  {
   "cell_type": "code",
   "execution_count": 8,
   "id": "193edab5-6124-4187-8206-9e440419eeff",
   "metadata": {},
   "outputs": [],
   "source": [
    "import seaborn as sns\n",
    "import pandas as pd\n",
    "import os\n",
    "from sklearn.metrics import *\n",
    "import matplotlib.pyplot as plt\n",
    "import scanpy as sc\n"
   ]
  },
  {
   "cell_type": "code",
   "execution_count": 9,
   "id": "721d9028",
   "metadata": {},
   "outputs": [],
   "source": [
    "path1 = '/home/workspace2/zhaofangyuan/domain_output/osmfish_res/Louvain'\n",
    "path2 = '/home/workspace2/zhaofangyuan/domain_output/osmfish_res/Leiden'\n",
    "# path3 = '/home/workspace2/zhaofangyuan/domain_output/osmfish_res/stLearn'\n",
    "# path4 = '/home/workspace2/zhaofangyuan/domain_output/osmfish_res/BayesSpace'\n",
    "path5 = '/home/workspace2/zhaofangyuan/domain_output/osmfish_res/SEDR'\n",
    "# path6 = '/home/workspace2/zhaofangyuan/domain_output/osmfish_res/SpaGCN_with'\n",
    "path7 = '/home/workspace2/zhaofangyuan/domain_output/osmfish_res/SpaGCN_without'\n",
    "path8 = '/home/workspace2/zhaofangyuan/domain_output/osmfish_res/SCAN-IT'\n",
    "path9 = '/home/workspace2/zhaofangyuan/domain_output/osmfish_res/conST_nopre'\n",
    "# path10 = '/home/workspace2/zhaofangyuan/domain_output/osmfish_res/conST_pre'\n",
    "path11 = '/home/workspace2/zhaofangyuan/domain_output/osmfish_res/STAGATE'\n",
    "path12 = '/home/workspace2/zhaofangyuan/domain_output/osmfish_res/CCST'\n",
    "path13 = '/home/workspace2/zhaofangyuan/domain_output/osmfish_res/SpaceFlow'\n",
    "path14 = '/home/workspace2/zhaofangyuan/domain_output/osmfish_res/BASS'\n",
    "path15 = '/home/workspace2/zhaofangyuan/domain_output/osmfish_res/DeepST'\n"
   ]
  },
  {
   "cell_type": "code",
   "execution_count": 10,
   "id": "db5374e2",
   "metadata": {},
   "outputs": [],
   "source": [
    "pd_dict1 = {\n",
    "    'replicate':[],\n",
    "    'resolution':[],\n",
    "    'NMI':[],\n",
    "    'ARI':[]\n",
    "}\n",
    "pd_dict2 = {\n",
    "    'replicate':[],\n",
    "    'resolution':[],\n",
    "    'NMI':[],\n",
    "    'ARI':[]\n",
    "}\n",
    "# pd_dict3 = {\n",
    "#     'replicate':[],\n",
    "#     'resolution':[],\n",
    "#     'NMI':[],\n",
    "#     'ARI':[]\n",
    "# }\n",
    "# pd_dict4 = {\n",
    "#     'replicate':[],\n",
    "#     'resolution':[],\n",
    "#     'NMI':[],\n",
    "#     'ARI':[]\n",
    "# }\n",
    "pd_dict5 = {\n",
    "    'replicate':[],\n",
    "    'resolution':[],\n",
    "    'NMI':[],\n",
    "    'ARI':[]\n",
    "}\n",
    "# pd_dict6 = {\n",
    "#     'replicate':[],\n",
    "#     'resolution':[],\n",
    "#     'NMI':[],\n",
    "#     'ARI':[]\n",
    "# }\n",
    "pd_dict7 = {\n",
    "    'replicate':[],\n",
    "    'resolution':[],\n",
    "    'NMI':[],\n",
    "    'ARI':[]\n",
    "}\n",
    "pd_dict8 = {\n",
    "    'replicate':[],\n",
    "    'resolution':[],\n",
    "    'NMI':[],\n",
    "    'ARI':[]\n",
    "}\n",
    "pd_dict9 = {\n",
    "    'replicate':[],\n",
    "    'resolution':[],\n",
    "    'NMI':[],\n",
    "    'ARI':[]\n",
    "}\n",
    "# pd_dict10 = {\n",
    "#     'replicate':[],\n",
    "#     'resolution':[],\n",
    "#     'NMI':[],\n",
    "#     'ARI':[]\n",
    "# }\n",
    "pd_dict11 = {\n",
    "    'replicate':[],\n",
    "    'resolution':[],\n",
    "    'NMI':[],\n",
    "    'ARI':[]\n",
    "}\n",
    "pd_dict12 = {\n",
    "    'replicate':[],\n",
    "    'resolution':[],\n",
    "    'NMI':[],\n",
    "    'ARI':[]\n",
    "}\n",
    "pd_dict13 = {\n",
    "    'replicate':[],\n",
    "    'resolution':[],\n",
    "    'NMI':[],\n",
    "    'ARI':[]\n",
    "}\n",
    "pd_dict14 = {\n",
    "    'replicate':[],\n",
    "    'resolution':[],\n",
    "    'NMI':[],\n",
    "    'ARI':[]\n",
    "}\n",
    "pd_dict15 = {\n",
    "    'replicate':[],\n",
    "    'resolution':[],\n",
    "    'NMI':[],\n",
    "    'ARI':[]\n",
    "}"
   ]
  },
  {
   "cell_type": "code",
   "execution_count": 11,
   "id": "02fdc564-8d9b-407a-a254-808e6fcee2a5",
   "metadata": {},
   "outputs": [],
   "source": [
    "algo_list=['Louvain',\n",
    "    'Leiden',\n",
    "    'stLearn',\n",
    "    'BayesSpace',\n",
    "    'SEDR',\n",
    "    'SpaGCN_with',\n",
    "    'SpaGCN_without',\n",
    "    'SCAN-IT',\n",
    "    'conST_nopre',\n",
    "    'conST_pre',\n",
    "    'STAGATE',\n",
    "    'CCST',\n",
    "    'SpaceFlow',\n",
    "    'BASS',\n",
    "    'DeepST']\n",
    "\n"
   ]
  },
  {
   "cell_type": "code",
   "execution_count": 5,
   "id": "2216b536-c1a8-42ef-8171-b64eafae0c79",
   "metadata": {},
   "outputs": [],
   "source": [
    "# for i in range(15):\n",
    "#     path = f'/home/workspace2/zhaofangyuan/domain_output/151673_resolution/{algo_list[i]}'\n",
    "for file in os.listdir(path1):\n",
    "    file_whole = f'{path1}/{file}'\n",
    "    adata = sc.read_h5ad(file_whole)\n",
    "\n",
    "    res = int(file[:-5].split('_')[-1])\n",
    "    for i in range(5):\n",
    "        obs_df = adata.obs.dropna()\n",
    "        pred_label = obs_df[f'pred_{i+1}']\n",
    "        true_label = obs_df['Region']\n",
    "\n",
    "        # pred_label = adata.obs[f'pred_{i+1}']\n",
    "        # true_label = adata.obs['Region']\n",
    "        nmi = normalized_mutual_info_score(pred_label,true_label)\n",
    "        ari = adjusted_rand_score(pred_label,true_label)\n",
    "        \n",
    "        pd_dict1['replicate'].append(i)\n",
    "        pd_dict1['resolution'].append(res)        \n",
    "        pd_dict1['NMI'].append(nmi)\n",
    "        pd_dict1['ARI'].append(ari)"
   ]
  },
  {
   "cell_type": "code",
   "execution_count": 6,
   "id": "a3804c5a",
   "metadata": {},
   "outputs": [],
   "source": [
    "for file in os.listdir(path2):\n",
    "    file_whole = f'{path2}/{file}'\n",
    "    adata = sc.read_h5ad(file_whole)\n",
    "\n",
    "\n",
    "    res = int(file[:-5].split('_')[-1])\n",
    "    for i in range(5):\n",
    "        obs_df = adata.obs.dropna()\n",
    "        pred_label = obs_df[f'pred_{i+1}']\n",
    "        true_label = obs_df['Region']\n",
    "\n",
    "        # pred_label = adata.obs[f'pred_{i+1}']\n",
    "        # true_label = adata.obs['Region']\n",
    "        nmi = normalized_mutual_info_score(pred_label,true_label)\n",
    "        ari = adjusted_rand_score(pred_label,true_label)\n",
    "        \n",
    "        pd_dict2['replicate'].append(i)\n",
    "        pd_dict2['resolution'].append(res)        \n",
    "        pd_dict2['ARI'].append(ari)\n",
    "        pd_dict2['NMI'].append(nmi)"
   ]
  },
  {
   "cell_type": "code",
   "execution_count": 7,
   "id": "df5433f6",
   "metadata": {},
   "outputs": [],
   "source": [
    "# for file in os.listdir(path3):\n",
    "#     file_whole = f'{path3}/{file}'\n",
    "   \n",
    "#     adata = sc.read_h5ad(file_whole)\n",
    "\n",
    "#     res = int(file[:-5].split('_')[-1])\n",
    "#     for i in range(5):\n",
    "#         obs_df = adata.obs.dropna()\n",
    "#         pred_label = obs_df[f'pred_{i+1}']\n",
    "#         true_label = obs_df['Region']\n",
    "\n",
    "#         # pred_label = adata.obs[f'pred_{i+1}']\n",
    "#         # true_label = adata.obs['Region']\n",
    "#         nmi = normalized_mutual_info_score(pred_label,true_label)\n",
    "#         ari = adjusted_rand_score(pred_label,true_label)\n",
    "        \n",
    "#         pd_dict3['replicate'].append(i)\n",
    "#         pd_dict3['resolution'].append(res)        \n",
    "#         pd_dict3['ARI'].append(ari)\n",
    "#         pd_dict3['NMI'].append(nmi)"
   ]
  },
  {
   "cell_type": "code",
   "execution_count": 8,
   "id": "a6e9cf5d",
   "metadata": {},
   "outputs": [],
   "source": [
    "# for file in os.listdir(path4):\n",
    "#     file_whole = f'{path4}/{file}'\n",
    "#     adata = sc.read_h5ad(file_whole)\n",
    "\n",
    "#     res = round(1-float(file[:-5].split('_')[-1]),1)\n",
    "#     # res = int(file[:-5].split('_')[-1])\n",
    "#     for i in range(5):\n",
    "#         obs_df = adata.obs.dropna()\n",
    "#         pred_label = obs_df[f'pred_{i+1}']\n",
    "#         true_label = obs_df['Region']\n",
    "\n",
    "#         # pred_label = adata.obs[f'pred_{i+1}']\n",
    "#         # true_label = adata.obs['Region']\n",
    "#         nmi = normalized_mutual_info_score(pred_label,true_label)\n",
    "#         ari = adjusted_rand_score(pred_label,true_label)\n",
    "        \n",
    "#         pd_dict4['replicate'].append(i)\n",
    "#         pd_dict4['resolution'].append(res)        \n",
    "#         pd_dict4['ARI'].append(ari)\n",
    "#         pd_dict4['NMI'].append(nmi)"
   ]
  },
  {
   "cell_type": "code",
   "execution_count": 5,
   "id": "ffae6da3",
   "metadata": {},
   "outputs": [],
   "source": [
    "for file in os.listdir(path5):\n",
    "    file_whole = f'{path5}/{file}'\n",
    "    adata = sc.read_h5ad(file_whole)\n",
    "\n",
    "    \n",
    "    res = int(file[:-5].split('_')[-1])\n",
    "    for i in range(5):\n",
    "        obs_df = adata.obs.dropna()\n",
    "        pred_label = obs_df[f'pred_{i+1}']\n",
    "        true_label = obs_df['Region']\n",
    "\n",
    "        # pred_label = adata.obs[f'pred_{i+1}']\n",
    "        # true_label = adata.obs['Region']\n",
    "        nmi = normalized_mutual_info_score(pred_label,true_label)\n",
    "        ari = adjusted_rand_score(pred_label,true_label)\n",
    "        \n",
    "        pd_dict5['replicate'].append(i)\n",
    "        pd_dict5['resolution'].append(res)        \n",
    "        pd_dict5['ARI'].append(ari)\n",
    "        pd_dict5['NMI'].append(nmi)"
   ]
  },
  {
   "cell_type": "code",
   "execution_count": 10,
   "id": "9dc1b217",
   "metadata": {},
   "outputs": [],
   "source": [
    "# for file in os.listdir(path6):\n",
    "#     file_whole = f'{path6}/{file}'\n",
    "#     adata = sc.read_h5ad(file_whole)\n",
    "\n",
    "#     res = round(1-float(file[:-5].split('_')[-1]),1)\n",
    "#     # res = int(file[:-5].split('_')[-1])\n",
    "#     for i in range(5):\n",
    "#         obs_df = adata.obs.dropna()\n",
    "#         pred_label = obs_df[f'pred_{i+1}']\n",
    "#         true_label = obs_df['Region']\n",
    "\n",
    "#         # pred_label = adata.obs[f'pred_{i+1}']\n",
    "#         # true_label = adata.obs['Region']\n",
    "#         nmi = normalized_mutual_info_score(pred_label,true_label)\n",
    "#         ari = adjusted_rand_score(pred_label,true_label)\n",
    "        \n",
    "#         pd_dict6['replicate'].append(i)\n",
    "#         pd_dict6['resolution'].append(res)        \n",
    "#         pd_dict6['ARI'].append(ari)\n",
    "#         pd_dict6['NMI'].append(nmi)"
   ]
  },
  {
   "cell_type": "code",
   "execution_count": 12,
   "id": "a757311a",
   "metadata": {},
   "outputs": [],
   "source": [
    "for file in os.listdir(path7):\n",
    "    file_whole = f'{path7}/{file}'\n",
    "    adata = sc.read_h5ad(file_whole)\n",
    "\n",
    "   \n",
    "    res = int(file[:-5].split('_')[-1])\n",
    "    for i in range(5):\n",
    "        obs_df = adata.obs.dropna()\n",
    "        pred_label = obs_df[f'pred_{i+1}']\n",
    "        true_label = obs_df['Region']\n",
    "\n",
    "        # pred_label = adata.obs[f'pred_{i+1}']\n",
    "        # true_label = adata.obs['Region']\n",
    "        nmi = normalized_mutual_info_score(pred_label,true_label)\n",
    "        ari = adjusted_rand_score(pred_label,true_label)\n",
    "        \n",
    "        pd_dict7['replicate'].append(i)\n",
    "        pd_dict7['resolution'].append(res)        \n",
    "        pd_dict7['ARI'].append(ari)\n",
    "        pd_dict7['NMI'].append(nmi)"
   ]
  },
  {
   "cell_type": "code",
   "execution_count": 12,
   "id": "7da54879",
   "metadata": {},
   "outputs": [],
   "source": [
    "for file in os.listdir(path8):\n",
    "    file_whole = f'{path8}/{file}'\n",
    "    adata = sc.read_h5ad(file_whole)\n",
    "\n",
    "   \n",
    "    res = int(file[:-5].split('_')[-1])\n",
    "    for i in range(5):\n",
    "        obs_df = adata.obs.dropna()\n",
    "        pred_label = obs_df[f'pred_{i+1}']\n",
    "        true_label = obs_df['Region']\n",
    "\n",
    "        # pred_label = adata.obs[f'pred_{i+1}']\n",
    "        # true_label = adata.obs['Region']\n",
    "        nmi = normalized_mutual_info_score(pred_label,true_label)\n",
    "        ari = adjusted_rand_score(pred_label,true_label)\n",
    "        \n",
    "        pd_dict8['replicate'].append(i)\n",
    "        pd_dict8['resolution'].append(res)        \n",
    "        pd_dict8['ARI'].append(ari)\n",
    "        pd_dict8['NMI'].append(nmi)"
   ]
  },
  {
   "cell_type": "code",
   "execution_count": 13,
   "id": "ffc6e570",
   "metadata": {},
   "outputs": [],
   "source": [
    "for file in os.listdir(path9):\n",
    "    file_whole = f'{path9}/{file}'\n",
    "    adata = sc.read_h5ad(file_whole)\n",
    "\n",
    "  \n",
    "    res = int(file[:-5].split('_')[-1])\n",
    "    for i in range(5):\n",
    "        obs_df = adata.obs.dropna()\n",
    "        pred_label = obs_df[f'pred_{i+1}']\n",
    "        true_label = obs_df['Region']\n",
    "\n",
    "        # pred_label = adata.obs[f'pred_{i+1}']\n",
    "        # true_label = adata.obs['Region']\n",
    "        nmi = normalized_mutual_info_score(pred_label,true_label)\n",
    "        ari = adjusted_rand_score(pred_label,true_label)\n",
    "        \n",
    "        pd_dict9['replicate'].append(i)\n",
    "        pd_dict9['resolution'].append(res)        \n",
    "        pd_dict9['ARI'].append(ari)\n",
    "        pd_dict9['NMI'].append(nmi)"
   ]
  },
  {
   "cell_type": "code",
   "execution_count": 14,
   "id": "ae7e6257",
   "metadata": {},
   "outputs": [],
   "source": [
    "# for file in os.listdir(path10):\n",
    "#     file_whole = f'{path10}/{file}'\n",
    "#     adata = sc.read_h5ad(file_whole)\n",
    "\n",
    "#     res = round(1-float(file[:-5].split('_')[-1]),1)\n",
    "#     # res = int(file[:-5].split('_')[-1])\n",
    "#     for i in range(5):\n",
    "#         obs_df = adata.obs.dropna()\n",
    "#         pred_label = obs_df[f'pred_{i+1}']\n",
    "#         true_label = obs_df['Region']\n",
    "\n",
    "#         # pred_label = adata.obs[f'pred_{i+1}']\n",
    "#         # true_label = adata.obs['Region']\n",
    "#         nmi = normalized_mutual_info_score(pred_label,true_label)\n",
    "#         ari = adjusted_rand_score(pred_label,true_label)\n",
    "        \n",
    "#         pd_dict10['replicate'].append(i)\n",
    "#         pd_dict10['resolution'].append(res)        \n",
    "#         pd_dict10['ARI'].append(ari)\n",
    "#         pd_dict10['NMI'].append(nmi)"
   ]
  },
  {
   "cell_type": "code",
   "execution_count": 15,
   "id": "7b8ca353",
   "metadata": {},
   "outputs": [],
   "source": [
    "for file in os.listdir(path11):\n",
    "    file_whole = f'{path11}/{file}'\n",
    "    adata = sc.read_h5ad(file_whole)\n",
    "\n",
    "   \n",
    "    res = int(file[:-5].split('_')[-1])\n",
    "    for i in range(5):\n",
    "        obs_df = adata.obs.dropna()\n",
    "        pred_label = obs_df[f'pred_{i+1}']\n",
    "        true_label = obs_df['Region']\n",
    "\n",
    "        # pred_label = adata.obs[f'pred_{i+1}']\n",
    "        # true_label = adata.obs['Region']\n",
    "        nmi = normalized_mutual_info_score(pred_label,true_label)\n",
    "        ari = adjusted_rand_score(pred_label,true_label)\n",
    "        \n",
    "        pd_dict11['replicate'].append(i)\n",
    "        pd_dict11['resolution'].append(res)        \n",
    "        pd_dict11['ARI'].append(ari)\n",
    "        pd_dict11['NMI'].append(nmi)"
   ]
  },
  {
   "cell_type": "code",
   "execution_count": 16,
   "id": "78589c86",
   "metadata": {},
   "outputs": [],
   "source": [
    "for file in os.listdir(path12):\n",
    "    file_whole = f'{path12}/{file}'\n",
    "    adata = sc.read_h5ad(file_whole)\n",
    "\n",
    "    \n",
    "    res = int(file[:-5].split('_')[-1])\n",
    "    for i in range(5):\n",
    "        obs_df = adata.obs.dropna()\n",
    "        pred_label = obs_df[f'pred_{i+1}']\n",
    "        true_label = obs_df['Region']\n",
    "\n",
    "        # pred_label = adata.obs[f'pred_{i+1}']\n",
    "        # true_label = adata.obs['Region']\n",
    "        nmi = normalized_mutual_info_score(pred_label,true_label)\n",
    "        ari = adjusted_rand_score(pred_label,true_label)\n",
    "        \n",
    "        pd_dict12['replicate'].append(i)\n",
    "        pd_dict12['resolution'].append(res)        \n",
    "        pd_dict12['ARI'].append(ari)\n",
    "        pd_dict12['NMI'].append(nmi)"
   ]
  },
  {
   "cell_type": "code",
   "execution_count": 17,
   "id": "bb3560b7",
   "metadata": {},
   "outputs": [],
   "source": [
    "for file in os.listdir(path13):\n",
    "    file_whole = f'{path13}/{file}'\n",
    "    adata = sc.read_h5ad(file_whole)\n",
    "\n",
    "   \n",
    "    res = int(file[:-5].split('_')[-1])\n",
    "    for i in range(5):\n",
    "        obs_df = adata.obs.dropna()\n",
    "        pred_label = obs_df[f'pred_{i+1}']\n",
    "        true_label = obs_df['Region']\n",
    "\n",
    "        # pred_label = adata.obs[f'pred_{i+1}']\n",
    "        # true_label = adata.obs['Region']\n",
    "        nmi = normalized_mutual_info_score(pred_label,true_label)\n",
    "        ari = adjusted_rand_score(pred_label,true_label)\n",
    "        \n",
    "        pd_dict13['replicate'].append(i)\n",
    "        pd_dict13['resolution'].append(res)        \n",
    "        pd_dict13['ARI'].append(ari)\n",
    "        pd_dict13['NMI'].append(nmi)"
   ]
  },
  {
   "cell_type": "code",
   "execution_count": 18,
   "id": "3d1aec56",
   "metadata": {},
   "outputs": [],
   "source": [
    "for file in os.listdir(path14):\n",
    "    file_whole = f'{path14}/{file}'\n",
    "    adata = sc.read_h5ad(file_whole)\n",
    "\n",
    "  \n",
    "    res = int(file[:-5].split('_')[-1])\n",
    "    for i in range(5):\n",
    "        obs_df = adata.obs.dropna()\n",
    "        pred_label = obs_df[f'pred_{i+1}']\n",
    "        true_label = obs_df['Region']\n",
    "\n",
    "        # pred_label = adata.obs[f'pred_{i+1}']\n",
    "        # true_label = adata.obs['Region']\n",
    "        nmi = normalized_mutual_info_score(pred_label,true_label)\n",
    "        ari = adjusted_rand_score(pred_label,true_label)\n",
    "        \n",
    "        pd_dict14['replicate'].append(i)\n",
    "        pd_dict14['resolution'].append(res)        \n",
    "        pd_dict14['ARI'].append(ari)\n",
    "        pd_dict14['NMI'].append(nmi)"
   ]
  },
  {
   "cell_type": "code",
   "execution_count": 19,
   "id": "a7513c17",
   "metadata": {},
   "outputs": [],
   "source": [
    "for file in os.listdir(path15):\n",
    "    file_whole = f'{path15}/{file}'\n",
    "    adata = sc.read_h5ad(file_whole)\n",
    "\n",
    "    \n",
    "    res = int(file[:-5].split('_')[-1])\n",
    "    for i in range(5):\n",
    "        obs_df = adata.obs.dropna()\n",
    "        pred_label = obs_df[f'pred_{i+1}']\n",
    "        true_label = obs_df['Region']\n",
    "\n",
    "        # pred_label = adata.obs[f'pred_{i+1}']\n",
    "        # true_label = adata.obs['Region']\n",
    "        nmi = normalized_mutual_info_score(pred_label,true_label)\n",
    "        ari = adjusted_rand_score(pred_label,true_label)\n",
    "        \n",
    "        pd_dict15['replicate'].append(i)\n",
    "        pd_dict15['resolution'].append(res)        \n",
    "        pd_dict15['ARI'].append(ari)\n",
    "        pd_dict15['NMI'].append(nmi)"
   ]
  },
  {
   "cell_type": "code",
   "execution_count": 13,
   "id": "a6a28d96-2ddd-4750-8056-f556a1af4804",
   "metadata": {},
   "outputs": [],
   "source": [
    "pd_df1 = pd.DataFrame(pd_dict1)\n",
    "pd_df2 = pd.DataFrame(pd_dict2)\n",
    "# pd_df3 = pd.DataFrame(pd_dict3)\n",
    "# pd_df4 = pd.DataFrame(pd_dict4)\n",
    "pd_df5 = pd.DataFrame(pd_dict5)\n",
    "# pd_df6 = pd.DataFrame(pd_dict6)\n",
    "pd_df7 = pd.DataFrame(pd_dict7)\n",
    "pd_df8 = pd.DataFrame(pd_dict8)\n",
    "pd_df9 = pd.DataFrame(pd_dict9)\n",
    "# pd_df10 = pd.DataFrame(pd_dict10)\n",
    "pd_df11 = pd.DataFrame(pd_dict11)\n",
    "pd_df12 = pd.DataFrame(pd_dict12)\n",
    "pd_df13 = pd.DataFrame(pd_dict13)\n",
    "pd_df14 = pd.DataFrame(pd_dict14)\n",
    "pd_df15 = pd.DataFrame(pd_dict15)"
   ]
  },
  {
   "cell_type": "code",
   "execution_count": 14,
   "id": "f7e8420d",
   "metadata": {},
   "outputs": [],
   "source": [
    "pd_df1.sort_values(by=\"resolution\" , inplace=True, ascending=True) \n",
    "pd_df2.sort_values(by=\"resolution\" , inplace=True, ascending=True) \n",
    "# pd_df3.sort_values(by=\"resolution\" , inplace=True, ascending=True) \n",
    "# pd_df4.sort_values(by=\"resolution\" , inplace=True, ascending=True) \n",
    "pd_df5.sort_values(by=\"resolution\" , inplace=True, ascending=True) \n",
    "# pd_df6.sort_values(by=\"resolution\" , inplace=True, ascending=True) \n",
    "pd_df7.sort_values(by=\"resolution\" , inplace=True, ascending=True) \n",
    "pd_df8.sort_values(by=\"resolution\" , inplace=True, ascending=True) \n",
    "pd_df9.sort_values(by=\"resolution\" , inplace=True, ascending=True) \n",
    "# pd_df10.sort_values(by=\"resolution\" , inplace=True, ascending=True) \n",
    "pd_df11.sort_values(by=\"resolution\" , inplace=True, ascending=True) \n",
    "pd_df12.sort_values(by=\"resolution\" , inplace=True, ascending=True) \n",
    "pd_df13.sort_values(by=\"resolution\" , inplace=True, ascending=True) \n",
    "pd_df14.sort_values(by=\"resolution\" , inplace=True, ascending=True) \n",
    "pd_df15.sort_values(by=\"resolution\" , inplace=True, ascending=True) "
   ]
  },
  {
   "cell_type": "code",
   "execution_count": 22,
   "id": "435016eb-2e80-43e9-81d3-ee09d11021f1",
   "metadata": {},
   "outputs": [],
   "source": [
    "# ax = sns.boxplot(data=pd_df,x='resolution',y='NMI',color='white')\n",
    "# ax = sns.boxplot(data=pd_df,x='resolution',y='ARI',color='white')"
   ]
  },
  {
   "cell_type": "code",
   "execution_count": 23,
   "id": "b4abeb07-f31b-476f-b96b-1c2526862eea",
   "metadata": {},
   "outputs": [
    {
     "data": {
      "image/png": "[encoded data removed]",
      "text/plain": [
       "<Figure size 360x360 with 1 Axes>"
      ]
     },
     "metadata": {
      "needs_background": "light"
     },
     "output_type": "display_data"
    }
   ],
   "source": [
    "fig,ax = plt.subplots(1,1,figsize=(5,5))\n",
    "p=sns.boxplot(data=pd_df1,x='resolution',y='ARI',ax=ax,palette=\"YlGnBu_d\")\n",
    "p.set_title(f\"{algo_list[0]}\")\n",
    "plt.savefig(f'resolution_ari_{algo_list[0]}(boxplot).pdf',dpi=400,bbox_inches='tight',transparent=True)\n"
   ]
  },
  {
   "cell_type": "code",
   "execution_count": 24,
   "id": "576214ae",
   "metadata": {},
   "outputs": [
    {
     "data": {
      "image/png": "[encoded data removed]",
      "text/plain": [
       "<Figure size 360x360 with 1 Axes>"
      ]
     },
     "metadata": {
      "needs_background": "light"
     },
     "output_type": "display_data"
    }
   ],
   "source": [
    "fig,ax = plt.subplots(1,1,figsize=(5,5))\n",
    "p=sns.boxplot(data=pd_df2,x='resolution',y='ARI',ax=ax,palette=\"YlGnBu_d\")\n",
    "p.set_title(f\"{algo_list[1]}\")\n",
    "plt.savefig(f'resolution_ari_{algo_list[1]}(boxplot).pdf',dpi=400,bbox_inches='tight',transparent=True)\n"
   ]
  },
  {
   "cell_type": "code",
   "execution_count": 25,
   "id": "a4ae2c13",
   "metadata": {},
   "outputs": [],
   "source": [
    "# fig,ax = plt.subplots(1,1,figsize=(5,5))\n",
    "# p=sns.boxplot(data=pd_df3,x='resolution',y='ARI',ax=ax)\n",
    "# p.set_title(f\"{algo_list[2]}\")\n",
    "# plt.savefig(f'resolution_ari_{algo_list[2]}(boxplot).pdf',dpi=400,bbox_inches='tight',transparent=True)\n"
   ]
  },
  {
   "cell_type": "code",
   "execution_count": 26,
   "id": "3829658c",
   "metadata": {},
   "outputs": [],
   "source": [
    "# fig,ax = plt.subplots(1,1,figsize=(5,5))\n",
    "# p=sns.boxplot(data=pd_df4,x='resolution',y='ARI',ax=ax)\n",
    "# p.set_title(f\"{algo_list[3]}\")\n",
    "# plt.savefig(f'resolution_ari_{algo_list[3]}(boxplot).pdf',dpi=400,bbox_inches='tight',transparent=True)"
   ]
  },
  {
   "cell_type": "code",
   "execution_count": 27,
   "id": "bba87302",
   "metadata": {},
   "outputs": [
    {
     "data": {
      "image/png": "[encoded data removed]",
      "text/plain": [
       "<Figure size 360x360 with 1 Axes>"
      ]
     },
     "metadata": {
      "needs_background": "light"
     },
     "output_type": "display_data"
    }
   ],
   "source": [
    "fig,ax = plt.subplots(1,1,figsize=(5,5))\n",
    "p=sns.boxplot(data=pd_df5,x='resolution',y='ARI',ax=ax,palette=\"YlGnBu_d\")\n",
    "p.set_title(f\"{algo_list[4]}\")\n",
    "plt.savefig(f'resolution_ari_{algo_list[4]}(boxplot).pdf',dpi=400,bbox_inches='tight',transparent=True)"
   ]
  },
  {
   "cell_type": "code",
   "execution_count": 28,
   "id": "af44cd81",
   "metadata": {},
   "outputs": [],
   "source": [
    "# fig,ax = plt.subplots(1,1,figsize=(5,5))\n",
    "# p=sns.boxplot(data=pd_df6,x='resolution',y='ARI',ax=ax)\n",
    "# p.set_title(f\"{algo_list[5]}\")\n",
    "# plt.savefig(f'resolution_ari_{algo_list[5]}(boxplot).pdf',dpi=400,bbox_inches='tight',transparent=True)"
   ]
  },
  {
   "cell_type": "code",
   "execution_count": 15,
   "id": "9c69aa4b",
   "metadata": {},
   "outputs": [
    {
     "data": {
      "image/png": "[encoded data removed]",
      "text/plain": [
       "<Figure size 360x360 with 1 Axes>"
      ]
     },
     "metadata": {
      "needs_background": "light"
     },
     "output_type": "display_data"
    }
   ],
   "source": [
    "fig,ax = plt.subplots(1,1,figsize=(5,5))\n",
    "p=sns.boxplot(data=pd_df7,x='resolution',y='ARI',ax=ax,palette=\"YlGnBu_d\")\n",
    "p.set_title(f\"{algo_list[6]}\")\n",
    "plt.savefig(f'resolution_ari_{algo_list[6]}(boxplot).pdf',dpi=400,bbox_inches='tight',transparent=True)"
   ]
  },
  {
   "cell_type": "code",
   "execution_count": 30,
   "id": "17b8e7d6",
   "metadata": {},
   "outputs": [
    {
     "data": {
      "image/png": "[encoded data removed]",
      "text/plain": [
       "<Figure size 360x360 with 1 Axes>"
      ]
     },
     "metadata": {
      "needs_background": "light"
     },
     "output_type": "display_data"
    }
   ],
   "source": [
    "fig,ax = plt.subplots(1,1,figsize=(5,5))\n",
    "p=sns.boxplot(data=pd_df8,x='resolution',y='ARI',ax=ax,palette=\"YlGnBu_d\")\n",
    "p.set_title(f\"{algo_list[7]}\")\n",
    "plt.savefig(f'resolution_ari_{algo_list[7]}(boxplot).pdf',dpi=400,bbox_inches='tight',transparent=True)"
   ]
  },
  {
   "cell_type": "code",
   "execution_count": 31,
   "id": "1e5bb33a",
   "metadata": {},
   "outputs": [
    {
     "data": {
      "image/png": "[encoded data removed]",
      "text/plain": [
       "<Figure size 360x360 with 1 Axes>"
      ]
     },
     "metadata": {
      "needs_background": "light"
     },
     "output_type": "display_data"
    }
   ],
   "source": [
    "fig,ax = plt.subplots(1,1,figsize=(5,5))\n",
    "p=sns.boxplot(data=pd_df9,x='resolution',y='ARI',ax=ax,palette=\"YlGnBu_d\")\n",
    "p.set_title(f\"{algo_list[8]}\")\n",
    "plt.savefig(f'resolution_ari_{algo_list[8]}(boxplot).pdf',dpi=400,bbox_inches='tight',transparent=True)\n"
   ]
  },
  {
   "cell_type": "code",
   "execution_count": 32,
   "id": "bf3555d8",
   "metadata": {},
   "outputs": [],
   "source": [
    "# fig,ax = plt.subplots(1,1,figsize=(5,5))\n",
    "# p=sns.boxplot(data=pd_df10,x='resolution',y='ARI',ax=ax)\n",
    "# p.set_title(f\"{algo_list[9]}\")\n",
    "# plt.savefig(f'resolution_ari_{algo_list[9]}(boxplot).pdf',dpi=400,bbox_inches='tight',transparent=True)\n"
   ]
  },
  {
   "cell_type": "code",
   "execution_count": 33,
   "id": "6be64018",
   "metadata": {},
   "outputs": [
    {
     "data": {
      "image/png": "[encoded data removed]",
      "text/plain": [
       "<Figure size 360x360 with 1 Axes>"
      ]
     },
     "metadata": {
      "needs_background": "light"
     },
     "output_type": "display_data"
    }
   ],
   "source": [
    "fig,ax = plt.subplots(1,1,figsize=(5,5))\n",
    "p=sns.boxplot(data=pd_df11,x='resolution',y='ARI',ax=ax,palette=\"YlGnBu_d\")\n",
    "p.set_title(f\"{algo_list[10]}\")\n",
    "plt.savefig(f'resolution_ari_{algo_list[10]}(boxplot).pdf',dpi=400,bbox_inches='tight',transparent=True)\n"
   ]
  },
  {
   "cell_type": "code",
   "execution_count": 34,
   "id": "5f072841",
   "metadata": {},
   "outputs": [
    {
     "data": {
      "image/png": "[encoded data removed]",
      "text/plain": [
       "<Figure size 360x360 with 1 Axes>"
      ]
     },
     "metadata": {
      "needs_background": "light"
     },
     "output_type": "display_data"
    }
   ],
   "source": [
    "fig,ax = plt.subplots(1,1,figsize=(5,5))\n",
    "p=sns.boxplot(data=pd_df12,x='resolution',y='ARI',ax=ax,palette=\"YlGnBu_d\")\n",
    "p.set_title(f\"{algo_list[11]}\")\n",
    "plt.savefig(f'resolution_ari_{algo_list[11]}(boxplot).pdf',dpi=400,bbox_inches='tight',transparent=True)\n"
   ]
  },
  {
   "cell_type": "code",
   "execution_count": 35,
   "id": "b0288efc",
   "metadata": {},
   "outputs": [
    {
     "data": {
      "image/png": "[encoded data removed]",
      "text/plain": [
       "<Figure size 360x360 with 1 Axes>"
      ]
     },
     "metadata": {
      "needs_background": "light"
     },
     "output_type": "display_data"
    }
   ],
   "source": [
    "fig,ax = plt.subplots(1,1,figsize=(5,5))\n",
    "p=sns.boxplot(data=pd_df13,x='resolution',y='ARI',ax=ax,palette=\"YlGnBu_d\")\n",
    "p.set_title(f\"{algo_list[12]}\")\n",
    "plt.savefig(f'resolution_ari_{algo_list[12]}(boxplot).pdf',dpi=400,bbox_inches='tight',transparent=True)\n"
   ]
  },
  {
   "cell_type": "code",
   "execution_count": 36,
   "id": "2caa6546",
   "metadata": {},
   "outputs": [
    {
     "data": {
      "image/png": "[encoded data removed]",
      "text/plain": [
       "<Figure size 360x360 with 1 Axes>"
      ]
     },
     "metadata": {
      "needs_background": "light"
     },
     "output_type": "display_data"
    }
   ],
   "source": [
    "fig,ax = plt.subplots(1,1,figsize=(5,5))\n",
    "p=sns.boxplot(data=pd_df14,x='resolution',y='ARI',ax=ax,palette=\"YlGnBu_d\")\n",
    "p.set_title(f\"{algo_list[13]}\")\n",
    "plt.savefig(f'resolution_ari_{algo_list[13]}(boxplot).pdf',dpi=400,bbox_inches='tight',transparent=True)\n"
   ]
  },
  {
   "cell_type": "code",
   "execution_count": 37,
   "id": "6441c289",
   "metadata": {},
   "outputs": [
    {
     "data": {
      "image/png": "[encoded data removed]",
      "text/plain": [
       "<Figure size 360x360 with 1 Axes>"
      ]
     },
     "metadata": {
      "needs_background": "light"
     },
     "output_type": "display_data"
    }
   ],
   "source": [
    "fig,ax = plt.subplots(1,1,figsize=(5,5))\n",
    "p=sns.boxplot(data=pd_df15,x='resolution',y='ARI',ax=ax,palette=\"YlGnBu_d\")\n",
    "p.set_title(f\"{algo_list[14]}\")\n",
    "plt.savefig(f'resolution_ari_{algo_list[14]}(boxplot).pdf',dpi=400,bbox_inches='tight',transparent=True)\n"
   ]
  },
  {
   "attachments": {},
   "cell_type": "markdown",
   "id": "23c09be6",
   "metadata": {},
   "source": [
    "NMI"
   ]
  },
  {
   "cell_type": "code",
   "execution_count": 38,
   "id": "99aaa086",
   "metadata": {},
   "outputs": [
    {
     "data": {
      "image/png": "[encoded data removed]",
      "text/plain": [
       "<Figure size 360x360 with 1 Axes>"
      ]
     },
     "metadata": {
      "needs_background": "light"
     },
     "output_type": "display_data"
    }
   ],
   "source": [
    "fig,ax = plt.subplots(1,1,figsize=(5,5))\n",
    "p=sns.boxplot(data=pd_df1,x='resolution',y='NMI',ax=ax,palette=\"YlGnBu_d\")\n",
    "p.set_title(f\"{algo_list[0]}\")\n",
    "plt.savefig(f'resolution_nmi_{algo_list[0]}(boxplot).pdf',dpi=400,bbox_inches='tight',transparent=True)"
   ]
  },
  {
   "cell_type": "code",
   "execution_count": 39,
   "id": "094683b9",
   "metadata": {},
   "outputs": [
    {
     "data": {
      "image/png": "[encoded data removed]",
      "text/plain": [
       "<Figure size 360x360 with 1 Axes>"
      ]
     },
     "metadata": {
      "needs_background": "light"
     },
     "output_type": "display_data"
    }
   ],
   "source": [
    "fig,ax = plt.subplots(1,1,figsize=(5,5))\n",
    "p=sns.boxplot(data=pd_df2,x='resolution',y='NMI',ax=ax,palette=\"YlGnBu_d\")\n",
    "p.set_title(f\"{algo_list[1]}\")\n",
    "plt.savefig(f'resolution_nmi_{algo_list[1]}(boxplot).pdf',dpi=400,bbox_inches='tight',transparent=True)"
   ]
  },
  {
   "cell_type": "code",
   "execution_count": 40,
   "id": "262c3342",
   "metadata": {},
   "outputs": [],
   "source": [
    "# fig,ax = plt.subplots(1,1,figsize=(5,5))\n",
    "# p=sns.boxplot(data=pd_df3,x='resolution',y='NMI',ax=ax)\n",
    "# p.set_title(f\"{algo_list[2]}\")\n",
    "# plt.savefig(f'resolution_nmi_{algo_list[2]}(boxplot).pdf',dpi=400,bbox_inches='tight',transparent=True)"
   ]
  },
  {
   "cell_type": "code",
   "execution_count": 41,
   "id": "43e2d8f5",
   "metadata": {},
   "outputs": [],
   "source": [
    "# fig,ax = plt.subplots(1,1,figsize=(5,5))\n",
    "# p=sns.boxplot(data=pd_df4,x='resolution',y='NMI',ax=ax)\n",
    "# p.set_title(f\"{algo_list[3]}\")\n",
    "# plt.savefig(f'resolution_nmi_{algo_list[3]}(boxplot).pdf',dpi=400,bbox_inches='tight',transparent=True)"
   ]
  },
  {
   "cell_type": "code",
   "execution_count": 42,
   "id": "cc2b2f37",
   "metadata": {},
   "outputs": [
    {
     "data": {
      "image/png": "[encoded data removed]",
      "text/plain": [
       "<Figure size 360x360 with 1 Axes>"
      ]
     },
     "metadata": {
      "needs_background": "light"
     },
     "output_type": "display_data"
    }
   ],
   "source": [
    "fig,ax = plt.subplots(1,1,figsize=(5,5))\n",
    "p=sns.boxplot(data=pd_df5,x='resolution',y='NMI',ax=ax,palette=\"YlGnBu_d\")\n",
    "p.set_title(f\"{algo_list[4]}\")\n",
    "plt.savefig(f'resolution_nmi_{algo_list[4]}(boxplot).pdf',dpi=400,bbox_inches='tight',transparent=True)"
   ]
  },
  {
   "cell_type": "code",
   "execution_count": 43,
   "id": "9afe3a19",
   "metadata": {},
   "outputs": [],
   "source": [
    "# fig,ax = plt.subplots(1,1,figsize=(5,5))\n",
    "# p=sns.boxplot(data=pd_df6,x='resolution',y='NMI',ax=ax)\n",
    "# p.set_title(f\"{algo_list[5]}\")\n",
    "# plt.savefig(f'resolution_nmi_{algo_list[5]}(boxplot).pdf',dpi=400,bbox_inches='tight',transparent=True)"
   ]
  },
  {
   "cell_type": "code",
   "execution_count": 16,
   "id": "f9a20b27",
   "metadata": {},
   "outputs": [
    {
     "data": {
      "image/png": "[encoded data removed]",
      "text/plain": [
       "<Figure size 360x360 with 1 Axes>"
      ]
     },
     "metadata": {
      "needs_background": "light"
     },
     "output_type": "display_data"
    }
   ],
   "source": [
    "fig,ax = plt.subplots(1,1,figsize=(5,5))\n",
    "p=sns.boxplot(data=pd_df7,x='resolution',y='NMI',ax=ax,palette=\"YlGnBu_d\")\n",
    "p.set_title(f\"{algo_list[6]}\")\n",
    "plt.savefig(f'resolution_nmi_{algo_list[6]}(boxplot).pdf',dpi=400,bbox_inches='tight',transparent=True)"
   ]
  },
  {
   "cell_type": "code",
   "execution_count": 45,
   "id": "a8fa0bcb",
   "metadata": {},
   "outputs": [
    {
     "data": {
      "image/png": "[encoded data removed]",
      "text/plain": [
       "<Figure size 360x360 with 1 Axes>"
      ]
     },
     "metadata": {
      "needs_background": "light"
     },
     "output_type": "display_data"
    }
   ],
   "source": [
    "fig,ax = plt.subplots(1,1,figsize=(5,5))\n",
    "p=sns.boxplot(data=pd_df8,x='resolution',y='NMI',ax=ax,palette=\"YlGnBu_d\")\n",
    "p.set_title(f\"{algo_list[7]}\")\n",
    "plt.savefig(f'resolution_nmi_{algo_list[7]}(boxplot).pdf',dpi=400,bbox_inches='tight',transparent=True)"
   ]
  },
  {
   "cell_type": "code",
   "execution_count": 46,
   "id": "828cefe8",
   "metadata": {},
   "outputs": [
    {
     "data": {
      "image/png": "[encoded data removed]",
      "text/plain": [
       "<Figure size 360x360 with 1 Axes>"
      ]
     },
     "metadata": {
      "needs_background": "light"
     },
     "output_type": "display_data"
    }
   ],
   "source": [
    "fig,ax = plt.subplots(1,1,figsize=(5,5))\n",
    "p=sns.boxplot(data=pd_df9,x='resolution',y='NMI',ax=ax,palette=\"YlGnBu_d\")\n",
    "p.set_title(f\"{algo_list[8]}\")\n",
    "plt.savefig(f'resolution_nmi_{algo_list[8]}(boxplot).pdf',dpi=400,bbox_inches='tight',transparent=True)"
   ]
  },
  {
   "cell_type": "code",
   "execution_count": 47,
   "id": "bdfc61fe",
   "metadata": {},
   "outputs": [],
   "source": [
    "# fig,ax = plt.subplots(1,1,figsize=(5,5))\n",
    "# p=sns.boxplot(data=pd_df10,x='resolution',y='NMI',ax=ax)\n",
    "# p.set_title(f\"{algo_list[9]}\")\n",
    "# plt.savefig(f'resolution_nmi_{algo_list[9]}(boxplot).pdf',dpi=400,bbox_inches='tight',transparent=True)"
   ]
  },
  {
   "cell_type": "code",
   "execution_count": 48,
   "id": "32ee4ca3",
   "metadata": {},
   "outputs": [
    {
     "data": {
      "image/png": "[encoded data removed]",
      "text/plain": [
       "<Figure size 360x360 with 1 Axes>"
      ]
     },
     "metadata": {
      "needs_background": "light"
     },
     "output_type": "display_data"
    }
   ],
   "source": [
    "fig,ax = plt.subplots(1,1,figsize=(5,5))\n",
    "p=sns.boxplot(data=pd_df11,x='resolution',y='NMI',ax=ax,palette=\"YlGnBu_d\")\n",
    "p.set_title(f\"{algo_list[10]}\")\n",
    "plt.savefig(f'resolution_nmi_{algo_list[10]}(boxplot).pdf',dpi=400,bbox_inches='tight',transparent=True)"
   ]
  },
  {
   "cell_type": "code",
   "execution_count": 49,
   "id": "eb385a17",
   "metadata": {},
   "outputs": [
    {
     "data": {
      "image/png": "[encoded data removed]",
      "text/plain": [
       "<Figure size 360x360 with 1 Axes>"
      ]
     },
     "metadata": {
      "needs_background": "light"
     },
     "output_type": "display_data"
    }
   ],
   "source": [
    "fig,ax = plt.subplots(1,1,figsize=(5,5))\n",
    "p=sns.boxplot(data=pd_df12,x='resolution',y='NMI',ax=ax,palette=\"YlGnBu_d\")\n",
    "p.set_title(f\"{algo_list[11]}\")\n",
    "plt.savefig(f'resolution_nmi_{algo_list[11]}(boxplot).pdf',dpi=400,bbox_inches='tight',transparent=True)"
   ]
  },
  {
   "cell_type": "code",
   "execution_count": 50,
   "id": "823d7793",
   "metadata": {},
   "outputs": [
    {
     "data": {
      "image/png": "[encoded data removed]",
      "text/plain": [
       "<Figure size 360x360 with 1 Axes>"
      ]
     },
     "metadata": {
      "needs_background": "light"
     },
     "output_type": "display_data"
    }
   ],
   "source": [
    "fig,ax = plt.subplots(1,1,figsize=(5,5))\n",
    "p=sns.boxplot(data=pd_df13,x='resolution',y='NMI',ax=ax,palette=\"YlGnBu_d\")\n",
    "p.set_title(f\"{algo_list[12]}\")\n",
    "plt.savefig(f'resolution_nmi_{algo_list[12]}(boxplot).pdf',dpi=400,bbox_inches='tight',transparent=True)"
   ]
  },
  {
   "cell_type": "code",
   "execution_count": 51,
   "id": "254ea5f5",
   "metadata": {},
   "outputs": [
    {
     "data": {
      "image/png": "[encoded data removed]",
      "text/plain": [
       "<Figure size 360x360 with 1 Axes>"
      ]
     },
     "metadata": {
      "needs_background": "light"
     },
     "output_type": "display_data"
    }
   ],
   "source": [
    "fig,ax = plt.subplots(1,1,figsize=(5,5))\n",
    "p=sns.boxplot(data=pd_df14,x='resolution',y='NMI',ax=ax,palette=\"YlGnBu_d\")\n",
    "p.set_title(f\"{algo_list[13]}\")\n",
    "plt.savefig(f'resolution_nmi_{algo_list[13]}(boxplot).pdf',dpi=400,bbox_inches='tight',transparent=True)"
   ]
  },
  {
   "cell_type": "code",
   "execution_count": 52,
   "id": "9950d358",
   "metadata": {},
   "outputs": [
    {
     "data": {
      "image/png": "[encoded data removed]",
      "text/plain": [
       "<Figure size 360x360 with 1 Axes>"
      ]
     },
     "metadata": {
      "needs_background": "light"
     },
     "output_type": "display_data"
    }
   ],
   "source": [
    "fig,ax = plt.subplots(1,1,figsize=(5,5))\n",
    "p=sns.boxplot(data=pd_df15,x='resolution',y='NMI',ax=ax,palette=\"YlGnBu_d\")\n",
    "p.set_title(f\"{algo_list[14]}\")\n",
    "plt.savefig(f'resolution_nmi_{algo_list[14]}(boxplot).pdf',dpi=400,bbox_inches='tight',transparent=True)"
   ]
  },
  {
   "cell_type": "code",
   "execution_count": null,
   "id": "f03c291c-2b15-4c60-8fc4-de932e507256",
   "metadata": {},
   "outputs": [],
   "source": [
    "# fig,ax = plt.subplots(1,1,figsize=(5,5))\n",
    "\n",
    "# PROPS = {\n",
    "#     'boxprops':{'facecolor':'none', 'edgecolor':'k'},\n",
    "#     'medianprops':{'color':'k'},\n",
    "#     'whiskerprops':{'color':'k'},\n",
    "#     'capprops':{'color':'k'}\n",
    "# }\n",
    "\n",
    "# sns.boxplot(x='resolution',y='ARI',\n",
    "#             palette='Oranges',\n",
    "#             data=pd_df,\n",
    "#             showfliers=False,\n",
    "#             linewidth=1.5, \n",
    "#             ax =ax,\n",
    "#             **PROPS\n",
    "#            )\n",
    "# plt.savefig('resolution_spaceflow.pdf',dpi=400,bbox_inches='tight',transparent=True)"
   ]
  },
  {
   "cell_type": "code",
   "execution_count": null,
   "id": "90bda936-8575-4e38-8a51-0632e2570e1d",
   "metadata": {},
   "outputs": [],
   "source": [
    "# pd_df[pd_df.resolution==700]"
   ]
  },
  {
   "cell_type": "code",
   "execution_count": null,
   "id": "1c9be664-7955-4a4a-a4dc-48e23dd2c9eb",
   "metadata": {},
   "outputs": [],
   "source": [
    "# PROPS = {\n",
    "#     'boxprops':{'facecolor':'none', 'edgecolor':'k'},\n",
    "#     'medianprops':{'color':'k'},\n",
    "#     'whiskerprops':{'color':'k'},\n",
    "#     'capprops':{'color':'k'}\n",
    "# }\n",
    "\n",
    "# sns.boxplot(x='resolution',y='NMI',\n",
    "#             data=pd_df,\n",
    "#             showfliers=False,\n",
    "#             linewidth=0.75, \n",
    "#             **PROPS)"
   ]
  }
 ],
 "metadata": {
  "kernelspec": {
   "display_name": "zhuanhuan",
   "language": "python",
   "name": "python3"
  },
  "language_info": {
   "codemirror_mode": {
    "name": "ipython",
    "version": 3
   },
   "file_extension": ".py",
   "mimetype": "text/x-python",
   "name": "python",
   "nbconvert_exporter": "python",
   "pygments_lexer": "ipython3",
   "version": "3.8.13"
  },
  "vscode": {
   "interpreter": {
    "hash": "7e222ea0b076562b1fd6a246fc5eb153b84f0ba04b753a72dbab72068768f3bc"
   }
  }
 },
 "nbformat": 4,
 "nbformat_minor": 5
}
