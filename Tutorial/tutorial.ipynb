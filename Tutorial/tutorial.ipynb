{
 "cells": [
  {
   "cell_type": "code",
   "execution_count": 59,
   "metadata": {},
   "outputs": [],
   "source": [
    "import scanpy as sc\n",
    "import pandas as pd\n",
    "import squidpy as sq\n",
    "import numpy as np\n",
    "from scipy.spatial import *\n",
    "from sklearn.preprocessing import *\n",
    "\n",
    "from sklearn.metrics import *\n",
    "from scipy.spatial.distance import *"
   ]
  },
  {
   "cell_type": "code",
   "execution_count": 60,
   "metadata": {},
   "outputs": [],
   "source": [
    "def fx_1NN(i,location_in):\n",
    "        location_in = np.array(location_in)\n",
    "        dist_array = distance_matrix(location_in[i,:][None,:],location_in)[0,:]\n",
    "        dist_array[i] = np.inf\n",
    "        return np.min(dist_array)\n",
    "    \n",
    "\n",
    "def fx_kNN(i,location_in,k,cluster_in):\n",
    "\n",
    "    location_in = np.array(location_in)\n",
    "    cluster_in = np.array(cluster_in)\n",
    "\n",
    "\n",
    "    dist_array = distance_matrix(location_in[i,:][None,:],location_in)[0,:]\n",
    "    dist_array[i] = np.inf\n",
    "    ind = np.argsort(dist_array)[:k]\n",
    "    cluster_use = np.array(cluster_in)\n",
    "    if np.sum(cluster_use[ind]!=cluster_in[i])>(k/2):\n",
    "        return 1\n",
    "    else:\n",
    "        return 0"
   ]
  },
  {
   "cell_type": "code",
   "execution_count": 61,
   "metadata": {},
   "outputs": [],
   "source": [
    "def _compute_CHAOS(clusterlabel, location):\n",
    "\n",
    "        clusterlabel = np.array(clusterlabel)\n",
    "        location = np.array(location)\n",
    "        matched_location = StandardScaler().fit_transform(location)\n",
    "\n",
    "        clusterlabel_unique = np.unique(clusterlabel)\n",
    "        dist_val = np.zeros(len(clusterlabel_unique))\n",
    "        count = 0\n",
    "        for k in clusterlabel_unique:\n",
    "            location_cluster = matched_location[clusterlabel==k,:]\n",
    "            if len(location_cluster)<=2:\n",
    "                continue\n",
    "            n_location_cluster = len(location_cluster)\n",
    "            results = [fx_1NN(i,location_cluster) for i in range(n_location_cluster)]\n",
    "            dist_val[count] = np.sum(results)\n",
    "            count = count + 1\n",
    "\n",
    "        return np.sum(dist_val)/len(clusterlabel)\n",
    "def _compute_PAS(clusterlabel,location):\n",
    "    \n",
    "    clusterlabel = np.array(clusterlabel)\n",
    "    location = np.array(location)\n",
    "    matched_location = location\n",
    "    results = [fx_kNN(i,matched_location,k=10,cluster_in=clusterlabel) for i in range(matched_location.shape[0])]\n",
    "    return np.sum(results)/len(clusterlabel)\n",
    "    \n",
    "\n",
    "def markerFC(adata_valid,marker_list,sdm_key):\n",
    "    rst_dict = {}\n",
    "    sdm_unique = adata_valid.obs[sdm_key].cat.categories\n",
    "    for marker in marker_list:\n",
    "        mean_exp_list = []\n",
    "        for sdm in sdm_unique:\n",
    "            mean_exp_list.append(np.mean(adata_valid[adata_valid.obs[sdm_key]==sdm][:,marker].X))\n",
    "        max_sdm_idx = np.argmax(mean_exp_list)\n",
    "#         print(sdm_unique[max_sdm_idx])\n",
    "\n",
    "        max_sdm_value = np.max(mean_exp_list)\n",
    "        other_sdm_value = np.mean(adata_valid[adata_valid.obs[sdm_key]!=sdm_unique[max_sdm_idx]][:,marker].X)\n",
    "        cur_fc = max_sdm_value/other_sdm_value\n",
    "        rst_dict[marker] = cur_fc\n",
    "    return rst_dict"
   ]
  },
  {
   "cell_type": "code",
   "execution_count": 62,
   "metadata": {},
   "outputs": [],
   "source": [
    "def compute_ARI(adata,gt_key,pred_key):\n",
    "    return adjusted_rand_score(adata.obs[gt_key],adata.obs[pred_key])\n",
    "\n",
    "def compute_NMI(adata,gt_key,pred_key):\n",
    "    return normalized_mutual_info_score(adata.obs[gt_key],adata.obs[pred_key])\n",
    "\n",
    "def compute_CHAOS(adata,pred_key,spatial_key='spatial'):\n",
    "    return _compute_CHAOS(adata.obs[pred_key],adata.obsm[spatial_key])\n",
    "\n",
    "def compute_PAS(adata,pred_key,spatial_key='spatial'):\n",
    "    return _compute_PAS(adata.obs[pred_key],adata.obsm[spatial_key])\n",
    "\n",
    "def compute_ASW(adata,pred_key,spatial_key='spatial'):\n",
    "    d = squareform(pdist(adata.obsm[spatial_key]))\n",
    "    return silhouette_score(X=d,labels=adata.obs[pred_key],metric='precomputed')\n",
    "\n",
    "def compute_HOM(adata,gt_key,pred_key):\n",
    "    return homogeneity_score(adata.obs[gt_key],adata.obs[pred_key])\n",
    "\n",
    "def compute_COM(adata,gt_key,pred_key):\n",
    "    return completeness_score(adata.obs[gt_key],adata.obs[pred_key])\n",
    "\n",
    "def marker_score(adata,domain_key,top_n=5):\n",
    "    adata = adata.copy()\n",
    "    count_dict = adata.obs[domain_key].value_counts()\n",
    "    adata = adata[adata.obs[domain_key].isin(count_dict.keys()[count_dict>3].values)]\n",
    "    sc.pp.normalize_per_cell(adata)\n",
    "    sc.pp.log1p(adata)\n",
    "    sc.tl.rank_genes_groups(adata,groupby=domain_key)\n",
    "    selected_genes = []\n",
    "    for i in range(top_n):\n",
    "        toadd = list(adata.uns['rank_genes_groups']['names'][i])\n",
    "        selected_genes.extend(toadd)\n",
    "    selected_genes = np.unique(selected_genes)\n",
    "    sq.gr.spatial_neighbors(adata)\n",
    "    sq.gr.spatial_autocorr(\n",
    "        adata,\n",
    "        mode=\"moran\",\n",
    "        genes=selected_genes,\n",
    "        n_perms=100,\n",
    "        n_jobs=1,\n",
    "    )\n",
    "    sq.gr.spatial_autocorr(\n",
    "        adata,\n",
    "        mode=\"geary\",\n",
    "        genes=selected_genes,\n",
    "        n_perms=100,\n",
    "        n_jobs=1,\n",
    "    )\n",
    "    moranI = np.median(adata.uns[\"moranI\"]['I'])\n",
    "    gearyC = np.median(adata.uns[\"gearyC\"]['C'])\n",
    "    return moranI,gearyC"
   ]
  },
  {
   "cell_type": "code",
   "execution_count": 63,
   "metadata": {},
   "outputs": [
    {
     "data": {
      "text/plain": [
       "View of AnnData object with n_obs × n_vars = 4221 × 33538\n",
       "    obs: 'in_tissue', 'array_row', 'array_col', 'Region', 'pred_1', 'pred_2', 'pred_3', 'pred_4', 'pred_5', 'pred_6', 'pred_7', 'pred_8', 'pred_9', 'pred_10', 'pred_refined_1', 'pred_refined_2', 'pred_refined_3', 'pred_refined_4', 'pred_refined_5', 'pred_refined_6', 'pred_refined_7', 'pred_refined_8', 'pred_refined_9', 'pred_refined_10'\n",
       "    var: 'gene_ids', 'feature_types', 'genome'\n",
       "    uns: 'ari', 'memory', 'refined_ari', 'spatial', 'time'\n",
       "    obsm: 'spatial'"
      ]
     },
     "execution_count": 63,
     "metadata": {},
     "output_type": "execute_result"
    }
   ],
   "source": [
    "adata=sc.read_h5ad('/home/workspace2/zhaofangyuan/domain_output/SpaGCN_without/10/SpaGCN_without_151507.h5ad')\n",
    "adata_valid = adata[np.logical_not(adata.obs['Region'].isna())]#去除NAN\n",
    "adata_valid"
   ]
  },
  {
   "cell_type": "code",
   "execution_count": 64,
   "metadata": {},
   "outputs": [],
   "source": [
    "#得到含有pred的csv文件\n",
    "# adata_valid.obs['pred_1'].to_csv('pred_1.csv',index=None)"
   ]
  },
  {
   "cell_type": "code",
   "execution_count": 65,
   "metadata": {},
   "outputs": [],
   "source": [
    "result_adata=adata_valid.copy()"
   ]
  },
  {
   "cell_type": "code",
   "execution_count": 67,
   "metadata": {},
   "outputs": [],
   "source": [
    "#得到新的adata\n",
    "pred=pd.read_csv('new_method.txt')\n",
    "# domain=pred['new_method1'].tolist()#txt文件中的第一行是名字\n",
    "domain=pred.iloc[:,0].tolist()\n",
    "result_adata.obs['pred']=domain\n",
    "result_adata.obs['pred']=result_adata.obs['pred'].astype('category')"
   ]
  },
  {
   "cell_type": "code",
   "execution_count": 68,
   "metadata": {},
   "outputs": [
    {
     "data": {
      "text/plain": [
       "0.42130812976368504"
      ]
     },
     "execution_count": 68,
     "metadata": {},
     "output_type": "execute_result"
    }
   ],
   "source": [
    "#computeari\n",
    "ari=compute_ARI(result_adata,f'Region',f'pred')\n",
    "ari"
   ]
  },
  {
   "cell_type": "code",
   "execution_count": 69,
   "metadata": {},
   "outputs": [
    {
     "data": {
      "text/plain": [
       "0.550818750430498"
      ]
     },
     "execution_count": 69,
     "metadata": {},
     "output_type": "execute_result"
    }
   ],
   "source": [
    "#compute nmi\n",
    "nmi=compute_NMI(result_adata,f'Region',f'pred')\n",
    "nmi"
   ]
  },
  {
   "cell_type": "code",
   "execution_count": 70,
   "metadata": {},
   "outputs": [
    {
     "data": {
      "text/plain": [
       "0.06066783744035732"
      ]
     },
     "execution_count": 70,
     "metadata": {},
     "output_type": "execute_result"
    }
   ],
   "source": [
    "#compute CHAOS\n",
    "chaos=compute_CHAOS(result_adata,f'pred')\n",
    "chaos"
   ]
  },
  {
   "cell_type": "code",
   "execution_count": 71,
   "metadata": {},
   "outputs": [
    {
     "data": {
      "text/plain": [
       "0.17720919213456526"
      ]
     },
     "execution_count": 71,
     "metadata": {},
     "output_type": "execute_result"
    }
   ],
   "source": [
    "#compute PAS\n",
    "pas=compute_PAS(result_adata,f'pred',spatial_key='spatial')\n",
    "pas"
   ]
  },
  {
   "cell_type": "code",
   "execution_count": 72,
   "metadata": {},
   "outputs": [
    {
     "data": {
      "text/plain": [
       "-0.029425595396403586"
      ]
     },
     "execution_count": 72,
     "metadata": {},
     "output_type": "execute_result"
    }
   ],
   "source": [
    "#compute ASW\n",
    "asw=compute_ASW(result_adata,f'pred',spatial_key='spatial')\n",
    "asw"
   ]
  },
  {
   "cell_type": "code",
   "execution_count": 73,
   "metadata": {},
   "outputs": [
    {
     "data": {
      "text/plain": [
       "0.5419495519799414"
      ]
     },
     "execution_count": 73,
     "metadata": {},
     "output_type": "execute_result"
    }
   ],
   "source": [
    "#compute HOM\n",
    "hom=compute_HOM(result_adata,f'Region',f'pred')\n",
    "hom"
   ]
  },
  {
   "cell_type": "code",
   "execution_count": 74,
   "metadata": {},
   "outputs": [
    {
     "data": {
      "text/plain": [
       "0.5599830739241538"
      ]
     },
     "execution_count": 74,
     "metadata": {},
     "output_type": "execute_result"
    }
   ],
   "source": [
    "#compute COM\n",
    "com=compute_COM(result_adata,f'Region',f'pred')\n",
    "com"
   ]
  },
  {
   "cell_type": "code",
   "execution_count": 75,
   "metadata": {},
   "outputs": [
    {
     "name": "stderr",
     "output_type": "stream",
     "text": [
      "/home/workspace2/zhaofangyuan/anaconda3/envs/zhuanhuan/lib/python3.8/site-packages/scanpy/preprocessing/_simple.py:524: ImplicitModificationWarning: Trying to modify attribute `.obs` of view, initializing view as actual.\n",
      "  adata.obs[key_n_counts] = counts_per_cell\n"
     ]
    },
    {
     "name": "stdout",
     "output_type": "stream",
     "text": [
      "WARNING: Default of the method has been changed to 't-test' from 't-test_overestim_var'\n"
     ]
    },
    {
     "data": {
      "application/vnd.jupyter.widget-view+json": {
       "model_id": "9ffd72cb6a4045d1a48ef69e89502dde",
       "version_major": 2,
       "version_minor": 0
      },
      "text/plain": [
       "  0%|          | 0/100 [00:00<?, ?/s]"
      ]
     },
     "metadata": {},
     "output_type": "display_data"
    },
    {
     "data": {
      "application/vnd.jupyter.widget-view+json": {
       "model_id": "285850f558384d009cce60f783415fab",
       "version_major": 2,
       "version_minor": 0
      },
      "text/plain": [
       "  0%|          | 0/100 [00:00<?, ?/s]"
      ]
     },
     "metadata": {},
     "output_type": "display_data"
    },
    {
     "name": "stdout",
     "output_type": "stream",
     "text": [
      "0.277929965839376 0.7225470532588847\n"
     ]
    }
   ],
   "source": [
    "#compute marker_score\n",
    "moranI,gearyC=marker_score(result_adata,f'Region')\n",
    "print(moranI,gearyC)"
   ]
  },
  {
   "cell_type": "code",
   "execution_count": 76,
   "metadata": {},
   "outputs": [],
   "source": [
    "output_df = pd.DataFrame([[nmi,hom,com,chaos,pas,asw,moranI,gearyC]],\n",
    "               index = [pred.columns[0]],\n",
    "               columns=[['Accuracy','Accuracy','Accuracy','Continuity','Continuity','Continuity','Marker score','Marker score'],\n",
    "                        ['NMI','HOM','COM','CHAOS','PAS','ASW','Moran\\'I','Geary\\'s C']])\n",
    "output_df.to_excel('./download_output.xlsx')"
   ]
  }
 ],
 "metadata": {
  "kernelspec": {
   "display_name": "zhuanhuan",
   "language": "python",
   "name": "python3"
  },
  "language_info": {
   "codemirror_mode": {
    "name": "ipython",
    "version": 3
   },
   "file_extension": ".py",
   "mimetype": "text/x-python",
   "name": "python",
   "nbconvert_exporter": "python",
   "pygments_lexer": "ipython3",
   "version": "3.8.13"
  },
  "orig_nbformat": 4
 },
 "nbformat": 4,
 "nbformat_minor": 2
}
