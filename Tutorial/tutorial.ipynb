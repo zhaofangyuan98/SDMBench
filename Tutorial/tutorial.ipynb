{
 "cells": [
  {
   "cell_type": "code",
   "execution_count": 59,
   "metadata": {},
   "outputs": [],
   "source": [
    "#import packages\n",
    "import scanpy as sc\n",
    "import pandas as pd\n",
    "import squidpy as sq\n",
    "import numpy as np\n",
    "from scipy.spatial import *\n",
    "from sklearn.preprocessing import *\n",
    "\n",
    "from sklearn.metrics import *\n",
    "from scipy.spatial.distance import *"
   ]
  },
  {
   "cell_type": "code",
   "execution_count": null,
   "metadata": {},
   "outputs": [],
   "source": [
    "import SDMBench.SDMBench as sdmbench\n",
    "sdmbench=sdmbench.sdmbench()"
   ]
  },
  {
   "cell_type": "code",
   "execution_count": null,
   "metadata": {},
   "outputs": [],
   "source": [
    "#First,you must download the data. We test one of 10x visium datasets from LIBD human dorsolateral prefrontal cortex, and you can download processed h5ad file in the /SDMBench/Data dir.\n",
    "#Then read 151507.h5ad"
   ]
  },
  {
   "cell_type": "code",
   "execution_count": 63,
   "metadata": {},
   "outputs": [
    {
     "data": {
      "text/plain": [
       "View of AnnData object with n_obs × n_vars = 4221 × 33538\n",
       "    obs: 'in_tissue', 'array_row', 'array_col', 'Region', 'pred_1', 'pred_2', 'pred_3', 'pred_4', 'pred_5', 'pred_6', 'pred_7', 'pred_8', 'pred_9', 'pred_10', 'pred_refined_1', 'pred_refined_2', 'pred_refined_3', 'pred_refined_4', 'pred_refined_5', 'pred_refined_6', 'pred_refined_7', 'pred_refined_8', 'pred_refined_9', 'pred_refined_10'\n",
       "    var: 'gene_ids', 'feature_types', 'genome'\n",
       "    uns: 'ari', 'memory', 'refined_ari', 'spatial', 'time'\n",
       "    obsm: 'spatial'"
      ]
     },
     "execution_count": 63,
     "metadata": {},
     "output_type": "execute_result"
    }
   ],
   "source": [
    "adata=sc.read_h5ad('/SDMBench/Data/151507.h5ad')\n",
    "adata_valid = adata[np.logical_not(adata.obs['Region'].isna())]#remove NAN\n",
    "adata_valid"
   ]
  },
  {
   "cell_type": "code",
   "execution_count": 67,
   "metadata": {},
   "outputs": [],
   "source": [
    "#read result of your method(txt file)\n",
    "pred=pd.read_csv('new_method.txt')"
   ]
  },
  {
   "cell_type": "code",
   "execution_count": 68,
   "metadata": {},
   "outputs": [
    {
     "data": {
      "text/plain": [
       "0.42130812976368504"
      ]
     },
     "execution_count": 68,
     "metadata": {},
     "output_type": "execute_result"
    }
   ],
   "source": [
    "#compute ari\n",
    "ari=sdmbench.compute_ARI(adata_valid,f'Region',f'pred')\n",
    "ari"
   ]
  },
  {
   "cell_type": "code",
   "execution_count": 69,
   "metadata": {},
   "outputs": [
    {
     "data": {
      "text/plain": [
       "0.550818750430498"
      ]
     },
     "execution_count": 69,
     "metadata": {},
     "output_type": "execute_result"
    }
   ],
   "source": [
    "#compute nmi\n",
    "nmi=sdmbench.compute_NMI(adata_valid,f'Region',f'pred')\n",
    "nmi"
   ]
  },
  {
   "cell_type": "code",
   "execution_count": 70,
   "metadata": {},
   "outputs": [
    {
     "data": {
      "text/plain": [
       "0.06066783744035732"
      ]
     },
     "execution_count": 70,
     "metadata": {},
     "output_type": "execute_result"
    }
   ],
   "source": [
    "#compute CHAOS\n",
    "chaos=sdmbench.compute_CHAOS(adata_valid,f'pred')\n",
    "chaos"
   ]
  },
  {
   "cell_type": "code",
   "execution_count": 71,
   "metadata": {},
   "outputs": [
    {
     "data": {
      "text/plain": [
       "0.17720919213456526"
      ]
     },
     "execution_count": 71,
     "metadata": {},
     "output_type": "execute_result"
    }
   ],
   "source": [
    "#compute PAS\n",
    "pas=sdmbench.compute_PAS(adata_valid,f'pred',spatial_key='spatial')\n",
    "pas"
   ]
  },
  {
   "cell_type": "code",
   "execution_count": 72,
   "metadata": {},
   "outputs": [
    {
     "data": {
      "text/plain": [
       "-0.029425595396403586"
      ]
     },
     "execution_count": 72,
     "metadata": {},
     "output_type": "execute_result"
    }
   ],
   "source": [
    "#compute ASW\n",
    "asw=sdmbench.compute_ASW(adata_valid,f'pred',spatial_key='spatial')\n",
    "asw"
   ]
  },
  {
   "cell_type": "code",
   "execution_count": 73,
   "metadata": {},
   "outputs": [
    {
     "data": {
      "text/plain": [
       "0.5419495519799414"
      ]
     },
     "execution_count": 73,
     "metadata": {},
     "output_type": "execute_result"
    }
   ],
   "source": [
    "#compute HOM\n",
    "hom=sdmbench.compute_HOM(adata_valid,f'Region',f'pred')\n",
    "hom"
   ]
  },
  {
   "cell_type": "code",
   "execution_count": 74,
   "metadata": {},
   "outputs": [
    {
     "data": {
      "text/plain": [
       "0.5599830739241538"
      ]
     },
     "execution_count": 74,
     "metadata": {},
     "output_type": "execute_result"
    }
   ],
   "source": [
    "#compute COM\n",
    "com=sdmbench.compute_COM(adata_valid,f'Region',f'pred')\n",
    "com"
   ]
  },
  {
   "cell_type": "code",
   "execution_count": 75,
   "metadata": {},
   "outputs": [
    {
     "name": "stderr",
     "output_type": "stream",
     "text": [
      "/home/workspace2/zhaofangyuan/anaconda3/envs/zhuanhuan/lib/python3.8/site-packages/scanpy/preprocessing/_simple.py:524: ImplicitModificationWarning: Trying to modify attribute `.obs` of view, initializing view as actual.\n",
      "  adata.obs[key_n_counts] = counts_per_cell\n"
     ]
    },
    {
     "name": "stdout",
     "output_type": "stream",
     "text": [
      "WARNING: Default of the method has been changed to 't-test' from 't-test_overestim_var'\n"
     ]
    },
    {
     "data": {
      "application/vnd.jupyter.widget-view+json": {
       "model_id": "9ffd72cb6a4045d1a48ef69e89502dde",
       "version_major": 2,
       "version_minor": 0
      },
      "text/plain": [
       "  0%|          | 0/100 [00:00<?, ?/s]"
      ]
     },
     "metadata": {},
     "output_type": "display_data"
    },
    {
     "data": {
      "application/vnd.jupyter.widget-view+json": {
       "model_id": "285850f558384d009cce60f783415fab",
       "version_major": 2,
       "version_minor": 0
      },
      "text/plain": [
       "  0%|          | 0/100 [00:00<?, ?/s]"
      ]
     },
     "metadata": {},
     "output_type": "display_data"
    },
    {
     "name": "stdout",
     "output_type": "stream",
     "text": [
      "0.277929965839376 0.7225470532588847\n"
     ]
    }
   ],
   "source": [
    "#compute marker_score\n",
    "moranI,gearyC=sdmbench.marker_score(adata_valid,f'Region')\n",
    "moranI,gearyC"
   ]
  },
  {
   "cell_type": "code",
   "execution_count": 76,
   "metadata": {},
   "outputs": [],
   "source": [
    "output_df = pd.DataFrame([[nmi,hom,com,chaos,pas,asw,moranI,gearyC]],\n",
    "               index = [pred.columns[0]],#your method name\n",
    "               columns=[['Accuracy','Accuracy','Accuracy','Continuity','Continuity','Continuity','Marker score','Marker score'],\n",
    "                        ['NMI','HOM','COM','CHAOS','PAS','ASW','Moran\\'I','Geary\\'s C']])\n",
    "output_df.to_excel('./output_result.xlsx')"
   ]
  }
 ],
 "metadata": {
  "kernelspec": {
   "display_name": "zhuanhuan",
   "language": "python",
   "name": "python3"
  },
  "language_info": {
   "codemirror_mode": {
    "name": "ipython",
    "version": 3
   },
   "file_extension": ".py",
   "mimetype": "text/x-python",
   "name": "python",
   "nbconvert_exporter": "python",
   "pygments_lexer": "ipython3",
   "version": "3.8.13"
  },
  "orig_nbformat": 4
 },
 "nbformat": 4,
 "nbformat_minor": 2
}
