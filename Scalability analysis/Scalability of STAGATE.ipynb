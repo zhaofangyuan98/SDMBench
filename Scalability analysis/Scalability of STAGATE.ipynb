{
 "cells": [
  {
   "cell_type": "code",
   "execution_count": 19,
   "id": "6da2a932-6b5b-4d5f-8fb5-df3e6904b960",
   "metadata": {},
   "outputs": [],
   "source": [
    "import pandas as pd\n",
    "import numpy as np\n",
    "import scanpy as sc\n",
    "import os\n",
    "import sys\n",
    "import matplotlib.pyplot as plt\n",
    "import seaborn as sns\n",
    "import gc\n",
    "import warnings\n",
    "warnings.filterwarnings(\"ignore\")"
   ]
  },
  {
   "cell_type": "code",
   "execution_count": 20,
   "id": "8e65a18f-0fc0-4d70-a190-7482c5db6877",
   "metadata": {},
   "outputs": [],
   "source": [
    "import time\n",
    "import gc"
   ]
  },
  {
   "cell_type": "code",
   "execution_count": 21,
   "id": "dd61b5d8-9145-450a-9731-4e859e06937a",
   "metadata": {},
   "outputs": [],
   "source": [
    "import STAGATE_pyG as STAGATE"
   ]
  },
  {
   "cell_type": "code",
   "execution_count": 22,
   "id": "69bc5c4e-d4c6-4078-8fdc-168890fff458",
   "metadata": {},
   "outputs": [],
   "source": [
    "path='/home/workspace/zhaofangyuan/Data'\n",
    "adata = sc.read_h5ad(f'{path}/aging.h5ad')"
   ]
  },
  {
   "cell_type": "code",
   "execution_count": 23,
   "id": "3ff20f57",
   "metadata": {},
   "outputs": [
    {
     "data": {
      "text/plain": [
       "AnnData object with n_obs × n_vars = 378918 × 374\n",
       "    obs: 'fov', 'center_x', 'center_y', 'min_x', 'max_x', 'min_y', 'max_y', 'age', 'clust_annot', 'slice', 'organism_ontology_term_id', 'sex_ontology_term_id', 'suspension_type', 'cell_type_ontology_term_id', 'assay_ontology_term_id', 'tissue_ontology_term_id', 'disease_ontology_term_id', 'self_reported_ethnicity_ontology_term_id', 'development_stage_ontology_term_id', 'donor_id', 'is_primary_data', 'cell_type_annot', 'cell_type', 'assay', 'disease', 'organism', 'sex', 'tissue', 'self_reported_ethnicity', 'development_stage', 'slice_id', 'ct', 'ct_sub'\n",
       "    var: 'feature_is_filtered', 'feature_name', 'feature_reference', 'feature_biotype'\n",
       "    uns: 'batch_condition', 'cell_type_colors', 'schema_version', 'title'\n",
       "    obsm: 'X_pca', 'X_spatial', 'X_umap', 'spatial'"
      ]
     },
     "execution_count": 23,
     "metadata": {},
     "output_type": "execute_result"
    }
   ],
   "source": [
    "adata"
   ]
  },
  {
   "cell_type": "code",
   "execution_count": 24,
   "id": "ebe1f350-54e9-4632-abe1-a0782840ed0d",
   "metadata": {},
   "outputs": [],
   "source": [
    "adata.obs['slice_id'] = adata.obs['slice_id'].astype('category')\n",
    "adata.obs['ct'] = adata.obs['ct'].astype('category')"
   ]
  },
  {
   "cell_type": "code",
   "execution_count": 25,
   "id": "dd8a18bb",
   "metadata": {},
   "outputs": [
    {
     "data": {
      "text/plain": [
       "Index(['MsBrainAgingSpatialDonor_10_0', 'MsBrainAgingSpatialDonor_10_1',\n",
       "       'MsBrainAgingSpatialDonor_10_2', 'MsBrainAgingSpatialDonor_11_0',\n",
       "       'MsBrainAgingSpatialDonor_11_1', 'MsBrainAgingSpatialDonor_11_2',\n",
       "       'MsBrainAgingSpatialDonor_12_0', 'MsBrainAgingSpatialDonor_12_1',\n",
       "       'MsBrainAgingSpatialDonor_1_0', 'MsBrainAgingSpatialDonor_2_0',\n",
       "       'MsBrainAgingSpatialDonor_2_1', 'MsBrainAgingSpatialDonor_3_0',\n",
       "       'MsBrainAgingSpatialDonor_3_1', 'MsBrainAgingSpatialDonor_4_0',\n",
       "       'MsBrainAgingSpatialDonor_4_1', 'MsBrainAgingSpatialDonor_4_2',\n",
       "       'MsBrainAgingSpatialDonor_5_0', 'MsBrainAgingSpatialDonor_5_1',\n",
       "       'MsBrainAgingSpatialDonor_5_2', 'MsBrainAgingSpatialDonor_6_0',\n",
       "       'MsBrainAgingSpatialDonor_6_1', 'MsBrainAgingSpatialDonor_6_2',\n",
       "       'MsBrainAgingSpatialDonor_7_0', 'MsBrainAgingSpatialDonor_7_1',\n",
       "       'MsBrainAgingSpatialDonor_7_2', 'MsBrainAgingSpatialDonor_8_0',\n",
       "       'MsBrainAgingSpatialDonor_8_1', 'MsBrainAgingSpatialDonor_8_2',\n",
       "       'MsBrainAgingSpatialDonor_9_0', 'MsBrainAgingSpatialDonor_9_1',\n",
       "       'MsBrainAgingSpatialDonor_9_2'],\n",
       "      dtype='object')"
      ]
     },
     "execution_count": 25,
     "metadata": {},
     "output_type": "execute_result"
    }
   ],
   "source": [
    "adata.obs['slice_id'].cat.categories"
   ]
  },
  {
   "cell_type": "code",
   "execution_count": 26,
   "id": "06a16454",
   "metadata": {},
   "outputs": [],
   "source": [
    "# Select slice\n",
    "import anndata as ad\n",
    "adata_raw0=adata[adata.obs['slice_id']=='MsBrainAgingSpatialDonor_11_0']\n",
    "adata_raw1=adata[adata.obs['slice_id']=='MsBrainAgingSpatialDonor_11_1']\n",
    "adata_raw2=adata[adata.obs['slice_id']=='MsBrainAgingSpatialDonor_11_2']\n",
    "# adata_raw3=adata[adata.obs['slice_id']=='MsBrainAgingSpatialDonor_10_0']\n",
    "# adata_raw4=adata[adata.obs['slice_id']=='MsBrainAgingSpatialDonor_10_1']\n",
    "adatas=[adata_raw0,adata_raw1,adata_raw2]\n",
    "adatas = ad.concat(adatas)\n",
    "\n",
    "adatas.obs['slice_id'] = adatas.obs['slice_id'].astype('category')\n",
    "adatas.obs['ct'] = adatas.obs['ct'].astype('category')"
   ]
  },
  {
   "cell_type": "code",
   "execution_count": 27,
   "id": "f88046eb-2c94-458e-ae7a-14404db42abd",
   "metadata": {},
   "outputs": [],
   "source": [
    "adata_raw = adatas.copy()"
   ]
  },
  {
   "cell_type": "code",
   "execution_count": 28,
   "id": "f61b56e6-62c6-427a-a15d-6076bbef8ef6",
   "metadata": {},
   "outputs": [],
   "source": [
    "n_cls = np.unique(adatas.obs['tissue']).shape[0]\n",
    "# n_cls=8"
   ]
  },
  {
   "cell_type": "code",
   "execution_count": 29,
   "id": "1b2930a6",
   "metadata": {},
   "outputs": [],
   "source": [
    "# def mclust_P(adata, num_cluster, used_obsm='STAGATE', modelNames='EEE'):\n",
    "    \n",
    "#     from sklearn import mixture\n",
    "#     np.random.seed(2020)\n",
    "#     g = mixture.GaussianMixture(n_components=num_cluster, covariance_type='diag')\n",
    "#     res = g.fit_predict(adata.obsm[used_obsm])\n",
    "#     adata.obs['mclust'] = res\n",
    "#     return adata"
   ]
  },
  {
   "cell_type": "code",
   "execution_count": 30,
   "id": "91fcbf50-d8d9-4b31-9bcc-94d819b8baf5",
   "metadata": {
    "tags": []
   },
   "outputs": [
    {
     "name": "stdout",
     "output_type": "stream",
     "text": [
      "------Calculating spatial graph...\n",
      "The graph contains 137226 edges, 7545 cells.\n",
      "18.1877 neighbors per cell on average.\n",
      "------Calculating spatial graph...\n",
      "The graph contains 256326 edges, 14195 cells.\n",
      "18.0575 neighbors per cell on average.\n",
      "Size of Input:  (21740, 374)\n"
     ]
    },
    {
     "name": "stderr",
     "output_type": "stream",
     "text": [
      "100%|██████████| 1500/1500 [02:11<00:00, 11.43it/s]\n"
     ]
    },
    {
     "data": {
      "text/plain": [
       "29973"
      ]
     },
     "execution_count": 30,
     "metadata": {},
     "output_type": "execute_result"
    },
    {
     "data": {
      "image/png": "[encoded data removed]",
      "text/plain": [
       "<Figure size 300x200 with 1 Axes>"
      ]
     },
     "metadata": {},
     "output_type": "display_data"
    },
    {
     "data": {
      "image/png": "[encoded data removed]",
      "text/plain": [
       "<Figure size 300x200 with 1 Axes>"
      ]
     },
     "metadata": {},
     "output_type": "display_data"
    }
   ],
   "source": [
    "import tracemalloc\n",
    "tracemalloc.start()  \n",
    "\n",
    "time_st = time.time()\n",
    "adata = adata_raw.copy()\n",
    "\n",
    "adata.obs['slice_id'] = adata.obs['slice_id'].astype('category')\n",
    "slice_list = adata.obs['slice_id'].cat.categories\n",
    "adata_list = []\n",
    "for s in slice_list:\n",
    "    cur_a = adata[adata.obs['slice_id']==s]\n",
    "    adata_list.append(cur_a)\n",
    "for i in range(len(slice_list)):\n",
    "    STAGATE.Cal_Spatial_Net(adata_list[i], rad_cutoff=70)\n",
    "    STAGATE.Stats_Spatial_Net(adata_list[i])\n",
    "adata = sc.concat(adata_list, keys=None)\n",
    "adata.uns['Spatial_Net'] = pd.concat([adata_list[i].uns['Spatial_Net'] for i in range(len(adata_list))])\n",
    "\n",
    "\n",
    "\n",
    "adata = STAGATE.train_STAGATE(adata,random_seed=0,n_epochs=1500)\n",
    "sc.pp.neighbors(adata, use_rep='STAGATE')\n",
    "sc.tl.umap(adata)\n",
    "\n",
    "# adata = mclust_P(adata, used_obsm='STAGATE', num_cluster=n_cls)\n",
    "# os.environ['R_HOME'] = '/home/yzy/anaconda3/envs/stagate/lib/R'\n",
    "adata = STAGATE.mclust_R(adata, used_obsm='STAGATE', num_cluster=n_cls)\n",
    "time_ed = time.time()\n",
    "time_cost = time_ed-time_st\n",
    "\n",
    "size, peak = tracemalloc.get_traced_memory()\n",
    "tracemalloc.stop()\n",
    "memory=peak /1024/1024\n",
    "\n",
    "adata.uns['memory']=memory\n",
    "adata.uns['time'] = time_cost\n",
    "\n",
    "adata.write_h5ad(f'./aging_multi_stagate.h5ad')\n",
    "del adata\n",
    "gc.collect()\n",
    "\n"
   ]
  }
 ],
 "metadata": {
  "kernelspec": {
   "display_name": "stagate_pyg",
   "language": "python",
   "name": "python3"
  },
  "language_info": {
   "codemirror_mode": {
    "name": "ipython",
    "version": 3
   },
   "file_extension": ".py",
   "mimetype": "text/x-python",
   "name": "python",
   "nbconvert_exporter": "python",
   "pygments_lexer": "ipython3",
   "version": "3.7.13"
  },
  "vscode": {
   "interpreter": {
    "hash": "7d8d4c584daf8d5bac5bb6541c089774aa1b850fa9a88e06a2895783ee322b11"
   }
  }
 },
 "nbformat": 4,
 "nbformat_minor": 5
}
