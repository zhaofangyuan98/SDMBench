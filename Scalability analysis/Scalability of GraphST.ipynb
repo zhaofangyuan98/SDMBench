{
 "cells": [
  {
   "cell_type": "code",
   "execution_count": 9,
   "metadata": {},
   "outputs": [],
   "source": [
    "import os\n",
    "import torch\n",
    "import pandas as pd\n",
    "import scanpy as sc\n",
    "from sklearn import metrics\n",
    "import multiprocessing as mp\n",
    "import matplotlib.pyplot as plt\n",
    "import numpy as np\n",
    "import gc\n",
    "import time"
   ]
  },
  {
   "cell_type": "code",
   "execution_count": 10,
   "metadata": {},
   "outputs": [],
   "source": [
    "from GraphST import GraphST"
   ]
  },
  {
   "cell_type": "code",
   "execution_count": 11,
   "metadata": {},
   "outputs": [],
   "source": [
    "# Run device, by default, the package is implemented on 'cpu'. We recommend using GPU.\n",
    "device = torch.device('cuda:1' if torch.cuda.is_available() else 'cpu')\n",
    "\n",
    "# the location of R, which is necessary for mclust algorithm. Please replace it with local R installation path\n",
    "os.environ['R_HOME'] = '/home/anaconda3/envs/GraphST/lib/R'"
   ]
  },
  {
   "cell_type": "code",
   "execution_count": 12,
   "metadata": {},
   "outputs": [],
   "source": [
    "import rpy2.robjects as robjects\n",
    "from rpy2.robjects.packages import importr\n",
    "\n",
    "mclust = importr('mclust')"
   ]
  },
  {
   "cell_type": "code",
   "execution_count": 13,
   "metadata": {},
   "outputs": [
    {
     "data": {
      "text/plain": [
       "AnnData object with n_obs × n_vars = 378918 × 374\n",
       "    obs: 'fov', 'center_x', 'center_y', 'min_x', 'max_x', 'min_y', 'max_y', 'age', 'clust_annot', 'slice', 'organism_ontology_term_id', 'sex_ontology_term_id', 'suspension_type', 'cell_type_ontology_term_id', 'assay_ontology_term_id', 'tissue_ontology_term_id', 'disease_ontology_term_id', 'self_reported_ethnicity_ontology_term_id', 'development_stage_ontology_term_id', 'donor_id', 'is_primary_data', 'cell_type_annot', 'cell_type', 'assay', 'disease', 'organism', 'sex', 'tissue', 'self_reported_ethnicity', 'development_stage', 'slice_id', 'ct', 'ct_sub'\n",
       "    var: 'feature_is_filtered', 'feature_name', 'feature_reference', 'feature_biotype'\n",
       "    uns: 'batch_condition', 'cell_type_colors', 'schema_version', 'title'\n",
       "    obsm: 'X_pca', 'X_spatial', 'X_umap', 'spatial'"
      ]
     },
     "execution_count": 13,
     "metadata": {},
     "output_type": "execute_result"
    }
   ],
   "source": [
    "# read data\n",
    "# file_fold = '/home/yahui/Yahui/Projects/data/S1_A1_S3_A1/' #please replace 'file_fold' with the download path\n",
    "# adata = sc.read_h5ad(file_fold + 'filtered_feature_bc_matrix.h5ad')\n",
    "file_fold = '/home/workspace2/zhaofangyuan/data_h5ad/'\n",
    "adata = sc.read_h5ad(file_fold + 'aging.h5ad')\n",
    "adata.var_names_make_unique()\n",
    "adata"
   ]
  },
  {
   "cell_type": "code",
   "execution_count": 14,
   "metadata": {},
   "outputs": [],
   "source": [
    "adata.obs['slice_id'] = adata.obs['slice_id'].astype('category')\n",
    "adata.obs['ct'] = adata.obs['ct'].astype('category')"
   ]
  },
  {
   "cell_type": "code",
   "execution_count": 15,
   "metadata": {},
   "outputs": [
    {
     "data": {
      "text/plain": [
       "Index(['MsBrainAgingSpatialDonor_10_0', 'MsBrainAgingSpatialDonor_10_1',\n",
       "       'MsBrainAgingSpatialDonor_10_2', 'MsBrainAgingSpatialDonor_11_0',\n",
       "       'MsBrainAgingSpatialDonor_11_1', 'MsBrainAgingSpatialDonor_11_2',\n",
       "       'MsBrainAgingSpatialDonor_12_0', 'MsBrainAgingSpatialDonor_12_1',\n",
       "       'MsBrainAgingSpatialDonor_1_0', 'MsBrainAgingSpatialDonor_2_0',\n",
       "       'MsBrainAgingSpatialDonor_2_1', 'MsBrainAgingSpatialDonor_3_0',\n",
       "       'MsBrainAgingSpatialDonor_3_1', 'MsBrainAgingSpatialDonor_4_0',\n",
       "       'MsBrainAgingSpatialDonor_4_1', 'MsBrainAgingSpatialDonor_4_2',\n",
       "       'MsBrainAgingSpatialDonor_5_0', 'MsBrainAgingSpatialDonor_5_1',\n",
       "       'MsBrainAgingSpatialDonor_5_2', 'MsBrainAgingSpatialDonor_6_0',\n",
       "       'MsBrainAgingSpatialDonor_6_1', 'MsBrainAgingSpatialDonor_6_2',\n",
       "       'MsBrainAgingSpatialDonor_7_0', 'MsBrainAgingSpatialDonor_7_1',\n",
       "       'MsBrainAgingSpatialDonor_7_2', 'MsBrainAgingSpatialDonor_8_0',\n",
       "       'MsBrainAgingSpatialDonor_8_1', 'MsBrainAgingSpatialDonor_8_2',\n",
       "       'MsBrainAgingSpatialDonor_9_0', 'MsBrainAgingSpatialDonor_9_1',\n",
       "       'MsBrainAgingSpatialDonor_9_2'],\n",
       "      dtype='object')"
      ]
     },
     "execution_count": 15,
     "metadata": {},
     "output_type": "execute_result"
    }
   ],
   "source": [
    "adata.obs['slice_id'].cat.categories"
   ]
  },
  {
   "cell_type": "code",
   "execution_count": 16,
   "metadata": {},
   "outputs": [],
   "source": [
    "# Select slice\n",
    "import anndata as ad\n",
    "# adata_raw0=adata[adata.obs['slice_id']=='MsBrainAgingSpatialDonor_11_0']#3\n",
    "# adata_raw1=adata[adata.obs['slice_id']=='MsBrainAgingSpatialDonor_11_1']#4\n",
    "# adata_raw2=adata[adata.obs['slice_id']=='MsBrainAgingSpatialDonor_11_2']#5\n",
    "adata_raw3=adata[adata.obs['slice_id']=='MsBrainAgingSpatialDonor_10_0']#2\n",
    "adata_raw4=adata[adata.obs['slice_id']=='MsBrainAgingSpatialDonor_10_1']#1\n",
    "adatas=[adata_raw3,adata_raw4]\n",
    "adatas = ad.concat(adatas)\n",
    "\n",
    "adatas.obs['slice_id'] = adatas.obs['slice_id'].astype('category')\n",
    "adatas.obs['ct'] = adatas.obs['ct'].astype('category')"
   ]
  },
  {
   "cell_type": "code",
   "execution_count": 17,
   "metadata": {},
   "outputs": [],
   "source": [
    "adata_raw = adatas.copy()"
   ]
  },
  {
   "cell_type": "code",
   "execution_count": 18,
   "metadata": {},
   "outputs": [],
   "source": [
    "n_clusters = np.unique(adata_raw.obs['tissue']).shape[0]"
   ]
  },
  {
   "cell_type": "code",
   "execution_count": 19,
   "metadata": {},
   "outputs": [],
   "source": [
    "adata = adata_raw.copy()\n",
    "adata.obs['slice_id'] = adata.obs['slice_id'].astype('category')\n",
    "slice_list = adata.obs['slice_id'].cat.categories"
   ]
  },
  {
   "cell_type": "code",
   "execution_count": 20,
   "metadata": {},
   "outputs": [
    {
     "name": "stderr",
     "output_type": "stream",
     "text": [
      "/home/workspace2/zhaofangyuan/anaconda3/envs/GraphST/lib/python3.8/site-packages/scanpy/preprocessing/_highly_variable_genes.py:212: RuntimeWarning: invalid value encountered in log\n",
      "  dispersion = np.log(dispersion)\n",
      "/home/workspace2/zhaofangyuan/anaconda3/envs/GraphST/lib/python3.8/site-packages/scanpy/preprocessing/_highly_variable_genes.py:273: UserWarning: `n_top_genes` > number of normalized dispersions, returning all genes with normalized dispersions.\n",
      "  warnings.warn(\n"
     ]
    },
    {
     "name": "stdout",
     "output_type": "stream",
     "text": [
      "Begin to train ST data...\n"
     ]
    },
    {
     "name": "stderr",
     "output_type": "stream",
     "text": [
      "  7%|▋         | 40/600 [00:57<12:54,  1.38s/it]"
     ]
    }
   ],
   "source": [
    "import tracemalloc\n",
    "\n",
    "tracemalloc.start()  \n",
    "\n",
    "time_st = time.time()\n",
    "adata = adata_raw.copy()\n",
    "adata.obs['slice_id'] = adata.obs['slice_id'].astype('category')\n",
    "slice_list = adata.obs['slice_id'].cat.categories\n",
    "\n",
    "# define model\n",
    "model = GraphST.GraphST(adata, device=device)\n",
    "# run model\n",
    "adata = model.train()\n",
    "\n",
    "tool = 'mclust' # mclust, leiden, and louvain\n",
    "\n",
    "# clustering\n",
    "from GraphST.utils import clustering\n",
    "\n",
    "\n",
    "if tool == 'mclust':\n",
    "   clustering(adata, n_clusters, method=tool) # For DLPFC dataset, we use optional refinement step.\n",
    "elif tool in ['leiden', 'louvain']:\n",
    "   clustering(adata, n_clusters, method=tool, start=0.1, end=2.0, increment=0.01)\n",
    "\n",
    "time_ed = time.time()\n",
    "time_cost = time_ed-time_st\n",
    "print(time_cost/60)\n",
    "\n",
    "size, peak = tracemalloc.get_traced_memory()\n",
    "tracemalloc.stop()\n",
    "memory=peak /1024/1024\n",
    "\n",
    "adata.uns['memory']=memory\n",
    "adata.uns['time'] = time_cost\n",
    "\n",
    "adata.write_h5ad(f'./aging_multi_5_deepst.h5ad')\n",
    "del adata\n",
    "gc.collect()\n"
   ]
  }
 ],
 "metadata": {
  "kernelspec": {
   "display_name": "DeepST",
   "language": "python",
   "name": "python3"
  },
  "language_info": {
   "codemirror_mode": {
    "name": "ipython",
    "version": 3
   },
   "file_extension": ".py",
   "mimetype": "text/x-python",
   "name": "python",
   "nbconvert_exporter": "python",
   "pygments_lexer": "ipython3",
   "version": "3.8.18"
  },
  "orig_nbformat": 4
 },
 "nbformat": 4,
 "nbformat_minor": 2
}
