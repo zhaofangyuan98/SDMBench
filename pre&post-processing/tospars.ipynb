{
 "cells": [
  {
   "cell_type": "code",
   "execution_count": 1,
   "metadata": {},
   "outputs": [],
   "source": [
    "import scanpy as sc\n",
    "import numpy as np\n",
    "from scipy import sparse"
   ]
  },
  {
   "cell_type": "code",
   "execution_count": 2,
   "metadata": {},
   "outputs": [
    {
     "data": {
      "text/plain": [
       "AnnData object with n_obs × n_vars = 3639 × 33538\n",
       "    obs: 'in_tissue', 'array_row', 'array_col', 'Region'\n",
       "    var: 'gene_ids', 'feature_types', 'genome'\n",
       "    uns: 'spatial'\n",
       "    obsm: 'spatial'"
      ]
     },
     "execution_count": 2,
     "metadata": {},
     "output_type": "execute_result"
    }
   ],
   "source": [
    "adata=sc.read_h5ad('151673.h5ad')\n",
    "adata"
   ]
  },
  {
   "cell_type": "code",
   "execution_count": 3,
   "metadata": {},
   "outputs": [
    {
     "data": {
      "text/plain": [
       "<3639x33538 sparse matrix of type '<class 'numpy.float32'>'\n",
       "\twith 8021506 stored elements in Compressed Sparse Row format>"
      ]
     },
     "execution_count": 3,
     "metadata": {},
     "output_type": "execute_result"
    }
   ],
   "source": [
    "adata.X"
   ]
  },
  {
   "cell_type": "code",
   "execution_count": 75,
   "metadata": {},
   "outputs": [
    {
     "data": {
      "text/plain": [
       "AnnData object with n_obs × n_vars = 3639 × 33538\n",
       "    obs: 'in_tissue', 'array_row', 'array_col', 'Region'\n",
       "    var: 'gene_ids', 'feature_types', 'genome'\n",
       "    uns: 'spatial'\n",
       "    obsm: 'spatial'"
      ]
     },
     "execution_count": 75,
     "metadata": {},
     "output_type": "execute_result"
    }
   ],
   "source": [
    "adata_spar=sc.read_h5ad('151673.h5ad')\n",
    "adata_spar"
   ]
  },
  {
   "cell_type": "code",
   "execution_count": 76,
   "metadata": {},
   "outputs": [
    {
     "data": {
      "text/plain": [
       "<3639x33538 sparse matrix of type '<class 'numpy.float32'>'\n",
       "\twith 8021506 stored elements in Compressed Sparse Row format>"
      ]
     },
     "execution_count": 76,
     "metadata": {},
     "output_type": "execute_result"
    }
   ],
   "source": [
    "adata_spar.X"
   ]
  },
  {
   "cell_type": "code",
   "execution_count": 63,
   "metadata": {},
   "outputs": [],
   "source": [
    "# def tosparse(adata,rate):\n",
    "#     adata_spar_X=(adata.X.toarray()*rate).astype(np.int)\n",
    "#     adata.X=sparse.csr_matrix(adata_spar_X)\n",
    "#     adata.write_h5ad(f'./test_{rate}.h5ad')"
   ]
  },
  {
   "cell_type": "code",
   "execution_count": 64,
   "metadata": {},
   "outputs": [],
   "source": [
    "# tosparse(adata_spar,0.5)"
   ]
  },
  {
   "cell_type": "code",
   "execution_count": 65,
   "metadata": {},
   "outputs": [],
   "source": [
    "# adata_spar_X=(adata_spar.X.toarray()*0.5).astype(np.int)\n",
    "# adata_spar.X=sparse.csr_matrix(adata_spar_X)\n",
    "# adata_spar.X\n"
   ]
  },
  {
   "cell_type": "code",
   "execution_count": 66,
   "metadata": {},
   "outputs": [],
   "source": [
    "# adata_spar.write_h5ad(f'./test.h5ad')"
   ]
  },
  {
   "cell_type": "code",
   "execution_count": 67,
   "metadata": {},
   "outputs": [],
   "source": [
    "# test=sc.read_h5ad('./test_0.5.h5ad')\n",
    "# test.X"
   ]
  },
  {
   "cell_type": "markdown",
   "metadata": {},
   "source": [
    "Changing andata to data with different sparsities"
   ]
  },
  {
   "cell_type": "code",
   "execution_count": 77,
   "metadata": {},
   "outputs": [],
   "source": [
    "def tosparse(adata,rate):\n",
    "    adata_spar_X=(adata.X.toarray()*rate).astype(np.int)\n",
    "    adata.X=sparse.csr_matrix(adata_spar_X)\n",
    "    adata.write_h5ad(f'./151673_{rate}.h5ad')"
   ]
  },
  {
   "cell_type": "code",
   "execution_count": 78,
   "metadata": {},
   "outputs": [],
   "source": [
    "#The rate of no-lost is 0.1-1\n",
    "for i in range(10):\n",
    "    adata_spar=sc.read_h5ad('151673.h5ad')\n",
    "    rate=round(0.1*(i+1),1)\n",
    "    tosparse(adata_spar,rate)"
   ]
  },
  {
   "cell_type": "markdown",
   "metadata": {},
   "source": [
    "test sparsity"
   ]
  },
  {
   "cell_type": "code",
   "execution_count": 79,
   "metadata": {},
   "outputs": [],
   "source": [
    "def cal_sparsity(adata,rate):\n",
    "    non_zero_num=adata.X.count_nonzero()   #Calculate non zero elements\n",
    "    print(non_zero_num)\n",
    "    total_num=len(adata.obs_names)*len(adata.var_names)\n",
    "    sparsity=non_zero_num/total_num\n",
    "    return sparsity"
   ]
  },
  {
   "cell_type": "code",
   "execution_count": 80,
   "metadata": {},
   "outputs": [
    {
     "name": "stdout",
     "output_type": "stream",
     "text": [
      "126528\n",
      "0.0010367342046626786\n",
      "457222\n",
      "0.0037463461567738307\n",
      "686728\n",
      "0.005626852608905475\n",
      "1164562\n",
      "0.009542087592077472\n",
      "2473425\n",
      "0.020266536262074687\n",
      "2473425\n",
      "0.020266536262074687\n",
      "2473425\n",
      "0.020266536262074687\n",
      "2473425\n",
      "0.020266536262074687\n",
      "2473425\n",
      "0.020266536262074687\n",
      "8021506\n",
      "0.0657259234565227\n"
     ]
    }
   ],
   "source": [
    "for i in range(9):\n",
    "    test=sc.read_h5ad(f'./151673_0.{i+1}.h5ad')\n",
    "    spars=cal_sparsity(test,1)\n",
    "    print(spars)\n",
    "test=sc.read_h5ad(f'./151673_1.0.h5ad')\n",
    "spars=cal_sparsity(test,1)\n",
    "print(spars)\n"
   ]
  }
 ],
 "metadata": {
  "kernelspec": {
   "display_name": "Python 3.8.13 ('ccst': conda)",
   "language": "python",
   "name": "python3"
  },
  "language_info": {
   "codemirror_mode": {
    "name": "ipython",
    "version": 3
   },
   "file_extension": ".py",
   "mimetype": "text/x-python",
   "name": "python",
   "nbconvert_exporter": "python",
   "pygments_lexer": "ipython3",
   "version": "3.8.13"
  },
  "orig_nbformat": 4,
  "vscode": {
   "interpreter": {
    "hash": "5f5c5e419e4d252fbd90b0e6ac6925f73e4d1cea89fe73037e6f5150142d02ed"
   }
  }
 },
 "nbformat": 4,
 "nbformat_minor": 2
}
