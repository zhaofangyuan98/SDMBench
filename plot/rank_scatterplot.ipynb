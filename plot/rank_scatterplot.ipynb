{
 "cells": [
  {
   "cell_type": "code",
   "execution_count": 2,
   "id": "a6eed46c-c7b9-4c9d-b32b-d8be70a605dc",
   "metadata": {},
   "outputs": [],
   "source": [
    "import scanpy as sc\n",
    "import numpy as np\n",
    "import pandas as pd\n",
    "import os\n",
    "from SDMBench import *\n",
    "import palettable\n",
    "import matplotlib.pyplot as plt\n",
    "import seaborn as sns"
   ]
  },
  {
   "cell_type": "code",
   "execution_count": 3,
   "id": "bc764a8e-882b-49cc-bff0-08590ce1a743",
   "metadata": {},
   "outputs": [],
   "source": [
    "pd_df_rank = pd.read_feather('performance_summary_rank.feather')"
   ]
  },
  {
   "cell_type": "code",
   "execution_count": 5,
   "id": "44171270-6706-43a3-98d2-33c4475626ac",
   "metadata": {},
   "outputs": [],
   "source": [
    "method_order = [\n",
    "    'louvain','leiden',\n",
    "    'SpaGCN_without','SpaGCN_with','BayesSpace','stLearn','SEDR',\n",
    "    'CCST','SCAN-IT','STAGATE','SpaceFlow','conST_nopre','BASS','DeepST'\n",
    "]"
   ]
  },
  {
   "cell_type": "code",
   "execution_count": 6,
   "id": "349d4383-bbab-4b05-ae9f-bcedc9f6fdaf",
   "metadata": {},
   "outputs": [],
   "source": [
    "cmp = palettable.tableau.Tableau_20.mpl_colors\n",
    "method_color_dict = dict(zip(method_order,cmp))\n",
    "def make_cmp(method_color_dict,method_list):\n",
    "    idx = []\n",
    "    method_key = list(method_color_dict.keys())\n",
    "    color_val = []\n",
    "    for i in range(len(method_color_dict)):\n",
    "        cur_method = method_key[i]\n",
    "        cur_color = method_color_dict[cur_method]\n",
    "        color_val.append(cur_color)\n",
    "        if cur_method in method_list:\n",
    "            idx.append(i)\n",
    "    return [method_key[i] for i in idx],[color_val[i] for i in idx]\n",
    "    "
   ]
  },
  {
   "cell_type": "code",
   "execution_count": 8,
   "id": "bd6fef21-d35c-417a-a061-2383769852b4",
   "metadata": {},
   "outputs": [
    {
     "data": {
      "text/plain": [
       "array(['BASS', 'CCST', 'DeepST', 'SCAN-IT', 'SEDR', 'STAGATE',\n",
       "       'SpaGCN_without', 'SpaceFlow', 'conST_nopre', 'leiden', 'louvain'],\n",
       "      dtype=object)"
      ]
     },
     "execution_count": 8,
     "metadata": {},
     "output_type": "execute_result"
    }
   ],
   "source": [
    "method_list"
   ]
  },
  {
   "cell_type": "code",
   "execution_count": 18,
   "id": "c4551f62-5cc2-49f5-85df-23cfa56f809d",
   "metadata": {},
   "outputs": [],
   "source": [
    "for biotech in np.unique(pd_df_rank['Biotech']):\n",
    "    pd_df_rank_biotech = pd_df_rank[pd_df_rank['Biotech']==biotech]\n",
    "    agg_dict = {\n",
    "        'Accuracy':[],\n",
    "        'Continuity':[],\n",
    "        'Method':[],\n",
    "        'Accuracy_err':[],\n",
    "        'Continuity_err':[]\n",
    "    }\n",
    "    method_list = np.unique(pd_df_rank_biotech['Method'])\n",
    "    cur_method_order,cur_cmp = make_cmp(method_color_dict,method_list)\n",
    "    \n",
    "    for method in cur_method_order:\n",
    "        cur_select = pd_df_rank_biotech[pd_df_rank_biotech.Method==method]\n",
    "        Accuracy = np.mean(cur_select['Accuracy'])\n",
    "        Continuity = np.mean(cur_select['Continuity'])\n",
    "        # Accuracy_err = np.var(cur_select['Accuracy'])\n",
    "        # Continuity_err = np.var(cur_select['Continuity'])\n",
    "        Accuracy_err = np.std(cur_select['Accuracy'])\n",
    "        Continuity_err = np.std(cur_select['Continuity'])\n",
    "\n",
    "\n",
    "\n",
    "        agg_dict['Method'].append(method)\n",
    "        agg_dict['Accuracy'].append(Accuracy)    \n",
    "        agg_dict['Continuity'].append(Continuity)    \n",
    "        agg_dict['Accuracy_err'].append(Accuracy_err)    \n",
    "        agg_dict['Continuity_err'].append(Continuity_err)    \n",
    "\n",
    "\n",
    "    fig,ax = plt.subplots(1,1,figsize=(5,5))\n",
    "    ax.errorbar(agg_dict['Accuracy'], \n",
    "                 agg_dict['Continuity'],\n",
    "                 xerr = agg_dict['Accuracy_err'],\n",
    "                 yerr = agg_dict['Continuity_err'],\n",
    "                 fmt='o',\n",
    "                 markersize=0,\n",
    "                 ecolor='k'\n",
    "                 # color=['k']*9\n",
    "                 # , xerr=c, yerr=d, fmt=\"o\", color=\"r\")\n",
    "                )\n",
    "\n",
    "    ax.scatter(agg_dict['Accuracy'], \n",
    "                 agg_dict['Continuity'],\n",
    "                c = cur_cmp,\n",
    "                s=100,\n",
    "                zorder=3\n",
    "                # markersize\n",
    "                )\n",
    "\n",
    "\n",
    "    plt.savefig(f'figures/biotech_rank_scatter/{biotech}.pdf',dpi=400,bbox_inches='tight',transparent=True)\n",
    "    plt.close()\n",
    "    # plt.show()"
   ]
  },
  {
   "cell_type": "code",
   "execution_count": null,
   "id": "756288b0-46f3-4e7e-b608-c91c13cfebdd",
   "metadata": {},
   "outputs": [],
   "source": []
  }
 ],
 "metadata": {
  "kernelspec": {
   "display_name": "SDMBench",
   "language": "python",
   "name": "sdmbench"
  },
  "language_info": {
   "codemirror_mode": {
    "name": "ipython",
    "version": 3
   },
   "file_extension": ".py",
   "mimetype": "text/x-python",
   "name": "python",
   "nbconvert_exporter": "python",
   "pygments_lexer": "ipython3",
   "version": "3.9.0"
  }
 },
 "nbformat": 4,
 "nbformat_minor": 5
}
