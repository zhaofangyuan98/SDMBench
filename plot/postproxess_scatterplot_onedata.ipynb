{
 "cells": [
  {
   "cell_type": "code",
   "execution_count": 232,
   "metadata": {},
   "outputs": [],
   "source": [
    "import seaborn as sns\n",
    "import pandas as pd\n",
    "import os\n",
    "from sklearn.metrics import *\n",
    "import matplotlib.pyplot as plt\n",
    "import scanpy as sc\n",
    "import numpy as np\n"
   ]
  },
  {
   "cell_type": "code",
   "execution_count": 233,
   "metadata": {},
   "outputs": [],
   "source": [
    "import palettable\n",
    "\n",
    "method_order = [\n",
    "    'Louvain','Leiden',\n",
    "    'SpaGCN_without','SpaGCN_with','BayesSpace','stLearn',\n",
    "    'SEDR','CCST','SCAN-IT','STAGATE','SpaceFlow',\n",
    "    'conST_nopre',\n",
    "    'BASS',\n",
    "    'DeepST'\n",
    "]\n",
    "\n",
    "dataset_order = ['151507','151508','151509','151510','151669','151670',\n",
    "            '151671','151672','151673','151674','151675','151676',\n",
    "            'osmfish',\n",
    "            'MERFISH_0.04','MERFISH_0.09','MERFISH_0.14','MERFISH_0.19','MERFISH_0.24',\n",
    "            'mouse_VISp','Slice_1','Slice_2','Slice_3',\n",
    "            'global_z0','global_z1','global_z2','global_z3','global_z4',\n",
    "            '20180417_BZ5_control','20180419_BZ9_control','20180424_BZ14_control','STARmap_20180505_BY3_1k']\n",
    "\n",
    "cmp = palettable.tableau.Tableau_20.mpl_colors\n",
    "\n",
    "cmp = palettable.tableau.Tableau_20.mpl_colors\n",
    "\n",
    "\n",
    "cmp_order = [cmp[13],cmp[19]]#9,   12,18\n",
    "postprocess_order=['refined','none']\n",
    "postprocess_color_dict = dict(zip(postprocess_order,cmp_order))\n",
    "\n",
    "# method_color_dict = dict(zip(method_order,cmp))"
   ]
  },
  {
   "cell_type": "code",
   "execution_count": 234,
   "metadata": {},
   "outputs": [],
   "source": [
    "def get_median_ari(temp):\n",
    "    # temp=pd_df[pd_df.algorithm==method_order[m]]\n",
    "\n",
    "    temp1=temp[temp.postprocess=='none']\n",
    "\n",
    "    tmp_dict = {col:temp1[col].tolist() for col in temp1.columns}\n",
    "    tmp_dict['ARI_median']=[]\n",
    "    for j in range(0,len(tmp_dict['ARI']),10):\n",
    "        s1=[tmp_dict['ARI'][j],tmp_dict['ARI'][j+1],tmp_dict['ARI'][j+2],tmp_dict['ARI'][j+3],tmp_dict['ARI'][j+4],\n",
    "                tmp_dict['ARI'][j+5],tmp_dict['ARI'][j+6],tmp_dict['ARI'][j+7],tmp_dict['ARI'][j+8],tmp_dict['ARI'][j+9]]\n",
    "        med=np.median(s1)\n",
    "\n",
    "\n",
    "        tmp_dict['ARI_median'].append(med)\n",
    "        tmp_dict['ARI_median'].append(med)\n",
    "        tmp_dict['ARI_median'].append(med)\n",
    "        tmp_dict['ARI_median'].append(med)\n",
    "        tmp_dict['ARI_median'].append(med)\n",
    "\n",
    "        tmp_dict['ARI_median'].append(med)\n",
    "        tmp_dict['ARI_median'].append(med)\n",
    "        tmp_dict['ARI_median'].append(med)\n",
    "        tmp_dict['ARI_median'].append(med)\n",
    "        tmp_dict['ARI_median'].append(med)\n",
    "\n",
    "    df1 = pd.DataFrame(tmp_dict)\n",
    "\n",
    "\n",
    "    temp2=temp[temp.postprocess=='refined']\n",
    "\n",
    "    tmp_dict = {col:temp2[col].tolist() for col in temp2.columns}\n",
    "    tmp_dict['ARI_median']=[]\n",
    "    for j in range(0,len(tmp_dict['ARI']),10):\n",
    "        s2=[tmp_dict['ARI'][j],tmp_dict['ARI'][j+1],tmp_dict['ARI'][j+2],tmp_dict['ARI'][j+3],tmp_dict['ARI'][j+4],\n",
    "                tmp_dict['ARI'][j+5],tmp_dict['ARI'][j+6],tmp_dict['ARI'][j+7],tmp_dict['ARI'][j+8],tmp_dict['ARI'][j+9]]\n",
    "        med=np.median(s2)\n",
    "\n",
    "\n",
    "        tmp_dict['ARI_median'].append(med)\n",
    "        tmp_dict['ARI_median'].append(med)\n",
    "        tmp_dict['ARI_median'].append(med)\n",
    "        tmp_dict['ARI_median'].append(med)\n",
    "        tmp_dict['ARI_median'].append(med)\n",
    "\n",
    "        tmp_dict['ARI_median'].append(med)\n",
    "        tmp_dict['ARI_median'].append(med)\n",
    "        tmp_dict['ARI_median'].append(med)\n",
    "        tmp_dict['ARI_median'].append(med)\n",
    "        tmp_dict['ARI_median'].append(med)\n",
    "\n",
    "    df2 = pd.DataFrame(tmp_dict)\n",
    "    temp_df=df1.append(df2,ignore_index=True)\n",
    "\n",
    "    return temp_df\n"
   ]
  },
  {
   "cell_type": "code",
   "execution_count": 235,
   "metadata": {},
   "outputs": [],
   "source": [
    "def get_median_nmi(temp):\n",
    "    # temp=pd_df[pd_df.algorithm==method_order[m]]\n",
    "\n",
    "    temp1=temp[temp.postprocess=='none']\n",
    "\n",
    "    tmp_dict = {col:temp1[col].tolist() for col in temp1.columns}\n",
    "    tmp_dict['NMI_median']=[]\n",
    "    for j in range(0,len(tmp_dict['NMI']),10):\n",
    "        s1=[tmp_dict['NMI'][j],tmp_dict['NMI'][j+1],tmp_dict['NMI'][j+2],tmp_dict['NMI'][j+3],tmp_dict['NMI'][j+4],\n",
    "                tmp_dict['NMI'][j+5],tmp_dict['NMI'][j+6],tmp_dict['NMI'][j+7],tmp_dict['NMI'][j+8],tmp_dict['NMI'][j+9]]\n",
    "        med=np.median(s1)\n",
    "\n",
    "\n",
    "        tmp_dict['NMI_median'].append(med)\n",
    "        tmp_dict['NMI_median'].append(med)\n",
    "        tmp_dict['NMI_median'].append(med)\n",
    "        tmp_dict['NMI_median'].append(med)\n",
    "        tmp_dict['NMI_median'].append(med)\n",
    "\n",
    "        tmp_dict['NMI_median'].append(med)\n",
    "        tmp_dict['NMI_median'].append(med)\n",
    "        tmp_dict['NMI_median'].append(med)\n",
    "        tmp_dict['NMI_median'].append(med)\n",
    "        tmp_dict['NMI_median'].append(med)\n",
    "\n",
    "    df1 = pd.DataFrame(tmp_dict)\n",
    "\n",
    "\n",
    "    temp2=temp[temp.postprocess=='refined']\n",
    "\n",
    "    tmp_dict = {col:temp2[col].tolist() for col in temp2.columns}\n",
    "    tmp_dict['NMI_median']=[]\n",
    "    for j in range(0,len(tmp_dict['NMI']),10):\n",
    "        s2=[tmp_dict['NMI'][j],tmp_dict['NMI'][j+1],tmp_dict['NMI'][j+2],tmp_dict['NMI'][j+3],tmp_dict['NMI'][j+4],\n",
    "                tmp_dict['NMI'][j+5],tmp_dict['NMI'][j+6],tmp_dict['NMI'][j+7],tmp_dict['NMI'][j+8],tmp_dict['NMI'][j+9]]\n",
    "        med=np.median(s2)\n",
    "\n",
    "\n",
    "        tmp_dict['NMI_median'].append(med)\n",
    "        tmp_dict['NMI_median'].append(med)\n",
    "        tmp_dict['NMI_median'].append(med)\n",
    "        tmp_dict['NMI_median'].append(med)\n",
    "        tmp_dict['NMI_median'].append(med)\n",
    "\n",
    "        tmp_dict['NMI_median'].append(med)\n",
    "        tmp_dict['NMI_median'].append(med)\n",
    "        tmp_dict['NMI_median'].append(med)\n",
    "        tmp_dict['NMI_median'].append(med)\n",
    "        tmp_dict['NMI_median'].append(med)\n",
    "\n",
    "    df2 = pd.DataFrame(tmp_dict)\n",
    "    temp_df=df1.append(df2,ignore_index=True)\n",
    "\n",
    "    return temp_df\n"
   ]
  },
  {
   "cell_type": "code",
   "execution_count": 236,
   "metadata": {},
   "outputs": [],
   "source": [
    "# m=13#不知道为啥for循环不行\n",
    "# pd_df = pd.read_feather('./all_data.feather')\n",
    "# temp=pd_df[pd_df.algorithm==method_order[m]]\n",
    "\n",
    "# #求中位数\n",
    "# df=get_median_ari(temp)\n",
    "\n",
    "# markers = {\"refined\": \"^\",\"none\":\"o\"}\n",
    "\n",
    "# p=sns.scatterplot(data=df, x=\"dataset\", y=\"ARI_median\", hue=\"postprocess\", style=\"postprocess\",s=150,\n",
    "#         palette=postprocess_color_dict,hue_order=postprocess_order,markers=markers,alpha = 0.3)\n",
    "# sns.move_legend(p, \"upper left\", bbox_to_anchor=(1, 1))\n",
    "# p.set_title(f\"{method_order[m]}\")\n",
    "# plt.xticks(rotation = 90)\n",
    "# plt.savefig(f'./postprocess_algorithm/postprocess_ari_{method_order[m]}(scatterplot).pdf',dpi=400,bbox_inches='tight',transparent=True)"
   ]
  },
  {
   "cell_type": "code",
   "execution_count": 237,
   "metadata": {},
   "outputs": [
    {
     "ename": "IndexError",
     "evalue": "list index out of range",
     "output_type": "error",
     "traceback": [
      "\u001b[0;31m---------------------------------------------------------------------------\u001b[0m",
      "\u001b[0;31mIndexError\u001b[0m                                Traceback (most recent call last)",
      "\u001b[1;32m/home/workspace2/zhaofangyuan/domain_output/Figure/py_postpocess/postproxess_scatterplot_onedataset.ipynb Cell 6\u001b[0m in \u001b[0;36m<cell line: 3>\u001b[0;34m()\u001b[0m\n\u001b[1;32m      <a href='vscode-notebook-cell://ssh-remote%2B10.206.32.55_zjx/home/workspace2/zhaofangyuan/domain_output/Figure/py_postpocess/postproxess_scatterplot_onedataset.ipynb#W5sdnNjb2RlLXJlbW90ZQ%3D%3D?line=0'>1</a>\u001b[0m m\u001b[39m=\u001b[39m\u001b[39m31\u001b[39m\u001b[39m#不知道为啥for循环不行\u001b[39;00m\n\u001b[1;32m      <a href='vscode-notebook-cell://ssh-remote%2B10.206.32.55_zjx/home/workspace2/zhaofangyuan/domain_output/Figure/py_postpocess/postproxess_scatterplot_onedataset.ipynb#W5sdnNjb2RlLXJlbW90ZQ%3D%3D?line=1'>2</a>\u001b[0m pd_df \u001b[39m=\u001b[39m pd\u001b[39m.\u001b[39mread_feather(\u001b[39m'\u001b[39m\u001b[39m../all_data.feather\u001b[39m\u001b[39m'\u001b[39m)\n\u001b[0;32m----> <a href='vscode-notebook-cell://ssh-remote%2B10.206.32.55_zjx/home/workspace2/zhaofangyuan/domain_output/Figure/py_postpocess/postproxess_scatterplot_onedataset.ipynb#W5sdnNjb2RlLXJlbW90ZQ%3D%3D?line=2'>3</a>\u001b[0m temp\u001b[39m=\u001b[39mpd_df[pd_df\u001b[39m.\u001b[39mdataset\u001b[39m==\u001b[39mdataset_order[m]]\n\u001b[1;32m      <a href='vscode-notebook-cell://ssh-remote%2B10.206.32.55_zjx/home/workspace2/zhaofangyuan/domain_output/Figure/py_postpocess/postproxess_scatterplot_onedataset.ipynb#W5sdnNjb2RlLXJlbW90ZQ%3D%3D?line=4'>5</a>\u001b[0m \u001b[39m#求中位数\u001b[39;00m\n\u001b[1;32m      <a href='vscode-notebook-cell://ssh-remote%2B10.206.32.55_zjx/home/workspace2/zhaofangyuan/domain_output/Figure/py_postpocess/postproxess_scatterplot_onedataset.ipynb#W5sdnNjb2RlLXJlbW90ZQ%3D%3D?line=5'>6</a>\u001b[0m df\u001b[39m=\u001b[39mget_median_nmi(temp)\n",
      "\u001b[0;31mIndexError\u001b[0m: list index out of range"
     ]
    }
   ],
   "source": [
    "m=31#不知道为啥for循环不行\n",
    "pd_df = pd.read_feather('../all_data.feather')\n",
    "temp=pd_df[pd_df.dataset==dataset_order[m]]\n",
    "\n",
    "#求中位数\n",
    "df=get_median_nmi(temp)\n",
    "\n",
    "markers = {\"refined\": \"^\",\"none\":\"o\"}\n",
    "\n",
    "p=sns.scatterplot(data=df, x=\"algorithm\", y=\"NMI_median\", hue=\"postprocess\", style=\"postprocess\",s=150,\n",
    "        palette=postprocess_color_dict,hue_order=postprocess_order,markers=markers,alpha = 0.3)\n",
    "sns.move_legend(p, \"upper left\", bbox_to_anchor=(1, 1))\n",
    "p.set_title(f\"{dataset_order[m]}\")\n",
    "plt.xticks(rotation = 90)\n",
    "plt.savefig(f'../postprocess_algorithm_onedataset/postprocess_nmi_{dataset_order[m]}(scatterplot).pdf',dpi=400,bbox_inches='tight',transparent=True)"
   ]
  },
  {
   "cell_type": "code",
   "execution_count": null,
   "metadata": {},
   "outputs": [
    {
     "name": "stderr",
     "output_type": "stream",
     "text": [
      "/tmp/ipykernel_7026/3391459534.py:52: FutureWarning: The frame.append method is deprecated and will be removed from pandas in a future version. Use pandas.concat instead.\n",
      "  temp_df=df1.append(df2,ignore_index=True)\n"
     ]
    },
    {
     "data": {
      "image/png": "[encoded data removed]",
      "text/plain": [
       "<Figure size 432x288 with 1 Axes>"
      ]
     },
     "metadata": {
      "needs_background": "light"
     },
     "output_type": "display_data"
    }
   ],
   "source": [
    "pd_df = pd.read_feather('../all_data.feather')\n",
    "temp=pd_df[pd_df.dataset==dataset_order[m]]\n",
    "\n",
    "#求中位数\n",
    "df=get_median_ari(temp)\n",
    "\n",
    "markers = {\"refined\": \"^\",\"none\":\"o\"}\n",
    "\n",
    "p=sns.scatterplot(data=df, x=\"algorithm\", y=\"ARI_median\", hue=\"postprocess\", style=\"postprocess\",s=150,\n",
    "        palette=postprocess_color_dict,hue_order=postprocess_order,markers=markers,alpha = 0.3)\n",
    "sns.move_legend(p, \"upper left\", bbox_to_anchor=(1, 1))\n",
    "p.set_title(f\"{dataset_order[m]}\")\n",
    "plt.xticks(rotation = 90)\n",
    "plt.savefig(f'../postprocess_algorithm_onedataset/postprocess_ari_{dataset_order[m]}(scatterplot).pdf',dpi=400,bbox_inches='tight',transparent=True)"
   ]
  }
 ],
 "metadata": {
  "kernelspec": {
   "display_name": "zhuanhuan",
   "language": "python",
   "name": "python3"
  },
  "language_info": {
   "codemirror_mode": {
    "name": "ipython",
    "version": 3
   },
   "file_extension": ".py",
   "mimetype": "text/x-python",
   "name": "python",
   "nbconvert_exporter": "python",
   "pygments_lexer": "ipython3",
   "version": "3.8.13 | packaged by conda-forge | (default, Mar 25 2022, 06:04:18) \n[GCC 10.3.0]"
  },
  "orig_nbformat": 4,
  "vscode": {
   "interpreter": {
    "hash": "7e222ea0b076562b1fd6a246fc5eb153b84f0ba04b753a72dbab72068768f3bc"
   }
  }
 },
 "nbformat": 4,
 "nbformat_minor": 2
}
